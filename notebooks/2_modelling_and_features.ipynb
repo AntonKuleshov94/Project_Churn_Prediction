{
 "cells": [
  {
   "cell_type": "markdown",
   "id": "7f28bead",
   "metadata": {},
   "source": [
    "Часть 6. Модель\n",
    "Вариант 2. Прогнозирование оттока пользователей (Churn Prediction)\n",
    "\n",
    "Задача: Предсказать, какие пользователи с высокой вероятностью не вернутся на сайт."
   ]
  },
  {
   "cell_type": "code",
   "execution_count": null,
   "id": "b676b490",
   "metadata": {
    "vscode": {
     "languageId": "plaintext"
    }
   },
   "outputs": [],
   "source": [
    "df['next_visit'] = ~df['next_visit']"
   ]
  },
  {
   "cell_type": "code",
   "execution_count": null,
   "id": "fada73b2",
   "metadata": {
    "vscode": {
     "languageId": "plaintext"
    }
   },
   "outputs": [],
   "source": [
    "# содержимое данных\n",
    "for col in df:\n",
    "    print(col)"
   ]
  },
  {
   "cell_type": "markdown",
   "id": "5ec2bce2",
   "metadata": {},
   "source": [
    "Для модели будем использовать фичи:\n",
    "\n",
    "Таргет\n",
    "next_visit\n",
    "\n",
    "Количественные\n",
    "pageViews\n",
    "visitDuration_min\n",
    "visits_before\n",
    "days_last_visit\n",
    "\n",
    "\n",
    "Категориальные\n",
    "Source\n",
    "UTMSource_category\n",
    "weekday - уже закодировано\n",
    "day_period\n",
    "visitDuration_category\n",
    "operatingSystem_category\n",
    "type_device\n",
    "regionCity - используем частотное кодирование, много значений\n",
    "\n",
    "\n",
    "Бинарные\n",
    "isNewUser\n",
    "bounce\n",
    "has_registration\n",
    "registration_left\n",
    "is_weekend\n"
   ]
  },
  {
   "cell_type": "markdown",
   "id": "45fff92b",
   "metadata": {},
   "source": [
    "МОДЕЛЬ"
   ]
  },
  {
   "cell_type": "code",
   "execution_count": null,
   "id": "a980f1a7",
   "metadata": {
    "vscode": {
     "languageId": "plaintext"
    }
   },
   "outputs": [],
   "source": [
    "df_model = df.copy()"
   ]
  },
  {
   "cell_type": "code",
   "execution_count": null,
   "id": "3250cc65",
   "metadata": {
    "vscode": {
     "languageId": "plaintext"
    }
   },
   "outputs": [],
   "source": [
    "df_model.drop(\n",
    "    [\n",
    "        'visitID',\n",
    "        'date',\n",
    "        'dateTime',\n",
    "        'dateTimeUTC',\n",
    "        'startURL',\n",
    "        'endURL',\n",
    "        'clientID',\n",
    "        'counterUserIDHash',\n",
    "        'mobilePhone',\n",
    "        'operatingSystemRoot',\n",
    "        'operatingSystem',\n",
    "        'browser',\n",
    "        'UTMCampaign',\n",
    "        'UTMContent',\n",
    "        'UTMMedium',\n",
    "        'UTMSource',\n",
    "        'UTMTerm',\n",
    "        'visitDuration',\n",
    "        'total_regs',\n",
    "        'regionCountry',\n",
    "        'referer',\n",
    "        'lastTrafficSource',\n",
    "        'referer_domain',\n",
    "        'days_last_visit'\n",
    "        ] , axis =1 ,inplace = True)"
   ]
  },
  {
   "cell_type": "code",
   "execution_count": null,
   "id": "ff83adc6",
   "metadata": {
    "vscode": {
     "languageId": "plaintext"
    }
   },
   "outputs": [],
   "source": [
    "df_model.info()"
   ]
  },
  {
   "cell_type": "markdown",
   "id": "6964d2cc",
   "metadata": {},
   "source": [
    "Кодируем категориальные признаки, масштабируем количественные"
   ]
  },
  {
   "cell_type": "code",
   "execution_count": null,
   "id": "03e5d503",
   "metadata": {
    "vscode": {
     "languageId": "plaintext"
    }
   },
   "outputs": [],
   "source": [
    "# применяем fit_transform\n",
    "# Определяем числовые столбцы\n",
    "numeric_cols = df_model.select_dtypes(include='number').columns\n",
    "\n",
    "# Создаём копии, чтобы не терять остальные признаки\n",
    "df_model_scaled = df_model.copy()\n",
    "\n",
    "# Масштабируем только числовые колонки\n",
    "scaler = StandardScaler()\n",
    "df_model_scaled[numeric_cols] = scaler.fit_transform(df_model[numeric_cols])\n"
   ]
  },
  {
   "cell_type": "code",
   "execution_count": null,
   "id": "faae69cb",
   "metadata": {
    "vscode": {
     "languageId": "plaintext"
    }
   },
   "outputs": [],
   "source": [
    "# используем частотное кодирование\n",
    "\n",
    "city_freq = df_model['regionCity'].value_counts(normalize=True)\n",
    "df_model['city_freq'] = df_model['regionCity'].map(city_freq)\n",
    "df_model.drop(['regionCity'] , axis =1 ,inplace = True)"
   ]
  },
  {
   "cell_type": "code",
   "execution_count": null,
   "id": "f8a3580f",
   "metadata": {
    "vscode": {
     "languageId": "plaintext"
    }
   },
   "outputs": [],
   "source": [
    "from sklearn.preprocessing import LabelEncoder\n",
    "\n",
    "label_encoder = LabelEncoder()\n",
    "selected_columns = ['Source',\n",
    "                   'day_period',\n",
    "                   'visitDuration_category',\n",
    "                   'type_device',\n",
    "                   'UTMSource_category',\n",
    "                   'operatingSystem_category']\n",
    "\n",
    "encoded_columns = {}\n",
    "for col in selected_columns:\n",
    "    df_model[col] = label_encoder.fit_transform(df_model[col])\n",
    "    # Сохраняем маппинг\n",
    "    encoded_columns[col] = dict(zip(label_encoder.classes_, label_encoder.transform(label_encoder.classes_)))"
   ]
  },
  {
   "cell_type": "code",
   "execution_count": null,
   "id": "8cfa3914",
   "metadata": {
    "vscode": {
     "languageId": "plaintext"
    }
   },
   "outputs": [],
   "source": [
    "df_model.info()"
   ]
  },
  {
   "cell_type": "code",
   "execution_count": null,
   "id": "310bf697",
   "metadata": {
    "vscode": {
     "languageId": "plaintext"
    }
   },
   "outputs": [],
   "source": [
    "df_model.head(10)"
   ]
  },
  {
   "cell_type": "code",
   "execution_count": null,
   "id": "26119a91",
   "metadata": {
    "vscode": {
     "languageId": "plaintext"
    }
   },
   "outputs": [],
   "source": [
    "X = df_model.drop(columns=['next_visit'])\n",
    "y = df_model['next_visit']\n",
    "\n",
    "# разобьем данные на обучающую и тестовый выборки\n",
    "\n",
    "from sklearn.model_selection import train_test_split\n",
    "X_train, X_test, y_train, y_test = train_test_split(\n",
    "    X, y, test_size=0.2, stratify=y, random_state=42\n",
    ")\n",
    "X_train.shape"
   ]
  },
  {
   "cell_type": "code",
   "execution_count": null,
   "id": "fbc64b7a",
   "metadata": {
    "vscode": {
     "languageId": "plaintext"
    }
   },
   "outputs": [],
   "source": [
    "plt.figure(figsize=(6, 4))\n",
    "sns.countplot(x=y, palette='viridis')\n",
    "plt.title('Распределение классов Revenue')\n",
    "plt.show()\n",
    "\n",
    "print(\"Соотношение классов:\\n\", df['next_visit'].value_counts(normalize=True))\n",
    "print(round(len(df['next_visit'])/len(df[df['next_visit'] == 1]), 1))"
   ]
  },
  {
   "cell_type": "code",
   "execution_count": null,
   "id": "ca35cfaf",
   "metadata": {
    "vscode": {
     "languageId": "plaintext"
    }
   },
   "outputs": [],
   "source": [
    "# метрики моделей\n",
    "\n",
    "metrics = pd.DataFrame(index=['precision', 'recall', 'f1', 'time'])"
   ]
  },
  {
   "cell_type": "markdown",
   "id": "010a95e7",
   "metadata": {},
   "source": [
    "Модель 1. Бэггинг"
   ]
  },
  {
   "cell_type": "code",
   "execution_count": null,
   "id": "85bfde82",
   "metadata": {
    "vscode": {
     "languageId": "plaintext"
    }
   },
   "outputs": [],
   "source": [
    "from sklearn.ensemble import BaggingClassifier, RandomForestClassifier, ExtraTreesClassifier\n",
    "from sklearn.ensemble import BaggingClassifier, RandomForestClassifier, ExtraTreesClassifier\n",
    "from sklearn.tree import DecisionTreeClassifier\n",
    "from sklearn.metrics import accuracy_score, f1_score, precision_score, recall_score\n",
    "import time\n",
    "\n",
    "models = {\n",
    "    \"BaggingClassifier\": BaggingClassifier(estimator=DecisionTreeClassifier(), n_estimators=50, random_state=42),\n",
    "    \"RandomForestClassifier\": RandomForestClassifier(n_estimators=50, random_state=42),\n",
    "    \"ExtraTreesClassifier\": ExtraTreesClassifier(n_estimators=50, random_state=42)\n",
    "}\n",
    "\n",
    "# обучаем модели и выводим classification_report\n",
    "start = time.time()\n",
    "for name, model in models.items():\n",
    "    print(\"=\"*30)\n",
    "    print(f\"Model: {name}\")\n",
    "    model.fit(X_train, y_train)  # обучаем модель\n",
    "\n",
    "    y_pred = model.predict(X_test)  # предсказываем классы\n",
    "    stop = time.time()\n",
    "    # выводим classification_report\n",
    "    print(classification_report(y_test, y_pred))\n",
    "\n",
    "precision = precision_score(y_test, y_pred)\n",
    "recall = recall_score(y_test, y_pred)\n",
    "f1 = f1_score(y_test, y_pred)\n",
    "elapsed_time = round((stop - start), 4)\n",
    "\n",
    "print(f'время работы алгоритма: {elapsed_time:.1f} секунд')\n",
    "print(f'Precision: {precision:.2f}')\n",
    "print(f'Recall: {recall:.2f}')\n",
    "print(f'F1 Score: {f1:.2f}')\n",
    "\n",
    "metrics['bagging'] = [precision, recall, f1, elapsed_time]\n",
    "\n"
   ]
  },
  {
   "cell_type": "markdown",
   "id": "1c91ba67",
   "metadata": {},
   "source": [
    "Модель 2. AdaBoost"
   ]
  },
  {
   "cell_type": "code",
   "execution_count": null,
   "id": "996747ab",
   "metadata": {
    "vscode": {
     "languageId": "plaintext"
    }
   },
   "outputs": [],
   "source": [
    "from sklearn.ensemble import AdaBoostClassifier\n",
    "from sklearn.tree import DecisionTreeClassifier\n",
    "from sklearn.metrics import classification_report\n",
    "start = time.time()\n",
    "\n",
    "# Создаём и обучаем AdaBoost\n",
    "ada = AdaBoostClassifier(estimator=DecisionTreeClassifier(max_depth=1), n_estimators=50, random_state=42)\n",
    "ada.fit(X_train, y_train)\n",
    "y_pred_ada = ada.predict(X_test)\n",
    "\n",
    "stop = time.time()\n",
    "print(classification_report(y_test, y_pred_ada))\n",
    "\n",
    "\n",
    "precision = precision_score(y_test, y_pred_ada)\n",
    "recall = recall_score(y_test, y_pred_ada)\n",
    "f1 = f1_score(y_test, y_pred_ada)\n",
    "elapsed_time = round((stop - start), 4)\n",
    "\n",
    "print(f'время работы алгоритма: {elapsed_time:.1f} секунд')\n",
    "print(f'Precision: {precision:.2f}')\n",
    "print(f'Recall: {recall:.2f}')\n",
    "print(f'F1 Score: {f1:.2f}')\n",
    "\n",
    "metrics['AdaBoost'] = [precision, recall, f1, elapsed_time]"
   ]
  },
  {
   "cell_type": "markdown",
   "id": "aa6d6fe3",
   "metadata": {},
   "source": [
    "Модель 3. GBM"
   ]
  },
  {
   "cell_type": "code",
   "execution_count": null,
   "id": "944e5502",
   "metadata": {
    "vscode": {
     "languageId": "plaintext"
    }
   },
   "outputs": [],
   "source": [
    "from sklearn.ensemble import GradientBoostingClassifier\n",
    "start = time.time()\n",
    "\n",
    "gbm = GradientBoostingClassifier(n_estimators=100, learning_rate=0.1, max_depth=3, random_state=42)\n",
    "gbm.fit(X_train, y_train)\n",
    "y_pred_gbm = gbm.predict(X_test)\n",
    "\n",
    "stop = time.time()\n",
    "print(classification_report(y_test, y_pred_gbm))\n",
    "\n",
    "precision = precision_score(y_test, y_pred_gbm)\n",
    "recall = recall_score(y_test, y_pred_gbm)\n",
    "f1 = f1_score(y_test, y_pred_gbm)\n",
    "elapsed_time = round((stop - start), 4)\n",
    "\n",
    "print(f'время работы алгоритма: {elapsed_time:.1f} секунд')\n",
    "print(f'Precision: {precision:.2f}')\n",
    "print(f'Recall: {recall:.2f}')\n",
    "print(f'F1 Score: {f1:.2f}')\n",
    "\n",
    "metrics['GBM'] = [precision, recall, f1, elapsed_time]"
   ]
  },
  {
   "cell_type": "markdown",
   "id": "db45c12d",
   "metadata": {},
   "source": [
    "Модель 4. XGBoost"
   ]
  },
  {
   "cell_type": "code",
   "execution_count": null,
   "id": "26a20b5d",
   "metadata": {
    "vscode": {
     "languageId": "plaintext"
    }
   },
   "outputs": [],
   "source": [
    "import xgboost as xgb\n",
    "start = time.time()\n",
    "\n",
    "xgb_model = xgb.XGBClassifier(n_estimators=100, learning_rate=0.1, max_depth=3, random_state=42, eval_metric=\"logloss\")\n",
    "xgb_model.fit(X_train, y_train)\n",
    "y_pred_xgb = xgb_model.predict(X_test)\n",
    "\n",
    "stop = time.time()\n",
    "print(classification_report(y_test, y_pred_xgb))\n",
    "\n",
    "precision = precision_score(y_test, y_pred_xgb)\n",
    "recall = recall_score(y_test, y_pred_xgb)\n",
    "f1 = f1_score(y_test, y_pred_xgb)\n",
    "elapsed_time = round((stop - start), 4)\n",
    "\n",
    "print(f'время работы алгоритма: {elapsed_time:.1f} секунд')\n",
    "print(f'Precision: {precision:.2f}')\n",
    "print(f'Recall: {recall:.2f}')\n",
    "print(f'F1 Score: {f1:.2f}')\n",
    "\n",
    "metrics['XGBoost'] = [precision, recall, f1, elapsed_time]\n"
   ]
  },
  {
   "cell_type": "markdown",
   "id": "948f8b20",
   "metadata": {},
   "source": [
    "Модель 5. LightGBM"
   ]
  },
  {
   "cell_type": "code",
   "execution_count": null,
   "id": "46787bc0",
   "metadata": {
    "vscode": {
     "languageId": "plaintext"
    }
   },
   "outputs": [],
   "source": [
    "import lightgbm as lgb\n",
    "\n",
    "params = {\n",
    "    'objective': 'binary',\n",
    "    'metric': 'auc',\n",
    "    'max_depth': -1,   # Без ограничения глубины\n",
    "    'num_leaves': 31,  # Стандартное значение\n",
    "    'min_data_in_leaf': 5,  # Сделаем меньше, чтобы больше разбиений прошло\n",
    "    'min_gain_to_split': 0.0,  # Уберем ограничение на минимальное улучшение сплита\n",
    "    'feature_fraction': 0.8,\n",
    "    'verbose':0\n",
    "}\n",
    "start = time.time()\n",
    "\n",
    "model = lgb.LGBMClassifier(**params)\n",
    "model.fit(X_train, y_train)\n",
    "y_pred_lgb = model.predict(X_test)\n",
    "\n",
    "stop = time.time()\n",
    "print(classification_report(y_test, y_pred_lgb))\n",
    "\n",
    "\n",
    "precision = precision_score(y_test, y_pred_lgb)\n",
    "recall = recall_score(y_test, y_pred_lgb)\n",
    "f1 = f1_score(y_test, y_pred_lgb)\n",
    "elapsed_time = round((stop - start), 4)\n",
    "\n",
    "print(f'время работы алгоритма: {elapsed_time:.1f} секунд')\n",
    "print(f'Precision: {precision:.2f}')\n",
    "print(f'Recall: {recall:.2f}')\n",
    "print(f'F1 Score: {f1:.2f}')\n",
    "\n",
    "metrics['LightGBM'] = [precision, recall, f1, elapsed_time]"
   ]
  },
  {
   "cell_type": "markdown",
   "id": "78aea893",
   "metadata": {},
   "source": [
    "Модель 6. CatBoost"
   ]
  },
  {
   "cell_type": "code",
   "execution_count": null,
   "id": "e8bf941c",
   "metadata": {
    "vscode": {
     "languageId": "plaintext"
    }
   },
   "outputs": [],
   "source": [
    "df_cat = df.copy()\n",
    "df_cat.drop(\n",
    "    [\n",
    "        'visitID',\n",
    "        'date',\n",
    "        'dateTime',\n",
    "        'dateTimeUTC',\n",
    "        'startURL',\n",
    "        'endURL',\n",
    "        'clientID',\n",
    "        'counterUserIDHash',\n",
    "        'mobilePhone',\n",
    "        'operatingSystemRoot',\n",
    "        'operatingSystem',\n",
    "        'browser',\n",
    "        'UTMCampaign',\n",
    "        'UTMContent',\n",
    "        'UTMMedium',\n",
    "        'UTMSource',\n",
    "        'UTMTerm',\n",
    "        'visitDuration',\n",
    "        'total_regs',\n",
    "        'regionCountry',\n",
    "        'referer',\n",
    "        'lastTrafficSource',\n",
    "        'referer_domain',\n",
    "        'days_last_visit'\n",
    "        ] , axis =1 ,inplace = True)"
   ]
  },
  {
   "cell_type": "code",
   "execution_count": null,
   "id": "8c3ef5d3",
   "metadata": {
    "vscode": {
     "languageId": "plaintext"
    }
   },
   "outputs": [],
   "source": [
    "X_cat = df_cat.drop(columns=['next_visit'])\n",
    "y_cat = df_cat['next_visit']\n",
    "# разделяем данные на тренировочную (80%) и тестовую (20%) выборки с учетом дисбаланса (stratify=y)\n",
    "X_train_cat, X_test_cat, y_train_cat, y_test_cat = train_test_split(X_cat, y_cat, test_size=0.2, stratify=y, random_state=42)\n",
    "\n",
    "import catboost as cb\n",
    "# определяем категориальные признаки\n",
    "cat_features = [\n",
    "    'Source',\n",
    "    'day_period',\n",
    "    'visitDuration_category',\n",
    "    'type_device',\n",
    "    'UTMSource_category',\n",
    "    'operatingSystem_category',\n",
    "    'regionCity'\n",
    "    ]\n",
    "start = time.time()\n",
    "\n",
    "# создаём и обучаем CatBoostClassifier\n",
    "cat_model = cb.CatBoostClassifier(iterations=100, learning_rate=0.1, depth=3, random_state=42, verbose=0)\n",
    "cat_model.fit(X_train_cat, y_train_cat, cat_features=cat_features)\n",
    "y_pred_cat = cat_model.predict(X_test_cat)\n",
    "\n",
    "stop = time.time()\n",
    "print(classification_report(y_test_cat, y_pred_cat))\n",
    "\n",
    "precision = precision_score(y_test_cat, y_pred_cat)\n",
    "recall = recall_score(y_test_cat, y_pred_cat)\n",
    "f1 = f1_score(y_test_cat, y_pred_cat)\n",
    "elapsed_time = round((stop - start), 4)\n",
    "\n",
    "print(f'время работы алгоритма: {elapsed_time:.1f} секунд')\n",
    "print(f'Precision: {precision:.2f}')\n",
    "print(f'Recall: {recall:.2f}')\n",
    "print(f'F1 Score: {f1:.2f}')\n",
    "\n",
    "metrics['CatBoost'] = [precision, recall, f1, elapsed_time]\n"
   ]
  },
  {
   "cell_type": "code",
   "execution_count": null,
   "id": "c545539a",
   "metadata": {
    "vscode": {
     "languageId": "plaintext"
    }
   },
   "outputs": [],
   "source": [
    "metrics"
   ]
  },
  {
   "cell_type": "markdown",
   "id": "0f34cec6",
   "metadata": {},
   "source": [
    "Вывод:\n",
    "\n",
    "лучше всего справилась LightGBM\n",
    "\n",
    "Precision = 0.87\n",
    "— Очень высокий показатель: модель почти не делает ложных положительных предсказаний, если она говорит \"пользователь вернётся\" — скорее всего, так и есть.\n",
    "\n",
    "Recall = 0.65\n",
    "— Средний показатель: модель находит не всех, кто реально вернулся, пропуская 36% вернувшихся.\n",
    "\n",
    "F1 = 0.74\n",
    "— В целом модель работает хорошо, но есть дисбаланс: точность высокая, полнота — нет.\n",
    "\n",
    "Time = 2.44 секунды\n",
    "— Нормальное время\n",
    "\n",
    "Модель осторожная: делает предсказания только в \"уверенных\" случаях.\n",
    "Хороша для сценариев, где важно не ошибиться с возвратом (например, направить дорогую рекламу только тем, кто точно вернётся).\n",
    "Но если нужно найти всех потенциально вернувшихся — recall надо повысить"
   ]
  },
  {
   "cell_type": "markdown",
   "id": "086cfca4",
   "metadata": {},
   "source": [
    "Попробуем теперь избавиться от неважных фичей и попробовать ту же модель"
   ]
  },
  {
   "cell_type": "markdown",
   "id": "411d9484",
   "metadata": {},
   "source": [
    "Модель 7. LightGBM без неважных фичей"
   ]
  },
  {
   "cell_type": "code",
   "execution_count": null,
   "id": "f685df22",
   "metadata": {
    "vscode": {
     "languageId": "plaintext"
    }
   },
   "outputs": [],
   "source": [
    "df_lgb = df_model.copy()\n",
    "df_lgb.drop([\n",
    "    'bounce',\n",
    "    'registration_left',\n",
    "    'has_registration',\n",
    "    'weekday',\n",
    "    'is_weekend',\n",
    "    'visits_before'\n",
    "], axis =1 ,inplace = True)"
   ]
  },
  {
   "cell_type": "code",
   "execution_count": null,
   "id": "1cfb5da0",
   "metadata": {
    "vscode": {
     "languageId": "plaintext"
    }
   },
   "outputs": [],
   "source": [
    "df_lgb.info()"
   ]
  },
  {
   "cell_type": "code",
   "execution_count": null,
   "id": "66359b73",
   "metadata": {
    "vscode": {
     "languageId": "plaintext"
    }
   },
   "outputs": [],
   "source": [
    "# разобьем данные на обучающую и тестовый выборки\n",
    "\n",
    "X = df_lgb.drop(columns=['next_visit'])\n",
    "y = df_lgb['next_visit']\n",
    "\n",
    "# разобьем данные на обучающую и тестовый выборки\n",
    "\n",
    "X_train, X_test, y_train, y_test = train_test_split(\n",
    "    X, y, test_size=0.2, stratify=y, random_state=42\n",
    ")\n",
    "X_train.shape"
   ]
  },
  {
   "cell_type": "code",
   "execution_count": null,
   "id": "a82d1d4d",
   "metadata": {
    "vscode": {
     "languageId": "plaintext"
    }
   },
   "outputs": [],
   "source": [
    "\n",
    "params = {\n",
    "    'objective': 'binary',\n",
    "    'metric': 'auc',\n",
    "    'max_depth': -1,   # Без ограничения глубины\n",
    "    'num_leaves': 31,  # Стандартное значение\n",
    "    'min_data_in_leaf': 5,  # Сделаем меньше, чтобы больше разбиений прошло\n",
    "    'min_gain_to_split': 0.0,  # Уберем ограничение на минимальное улучшение сплита\n",
    "    'feature_fraction': 0.8,\n",
    "    'verbose':0\n",
    "}\n",
    "start = time.time()\n",
    "\n",
    "model = lgb.LGBMClassifier(**params)\n",
    "model.fit(X_train, y_train)\n",
    "y_pred_lgb = model.predict(X_test)\n",
    "\n",
    "stop = time.time()\n",
    "print(classification_report(y_test, y_pred_lgb))\n",
    "\n",
    "\n",
    "precision = precision_score(y_test, y_pred_lgb)\n",
    "recall = recall_score(y_test, y_pred_lgb)\n",
    "f1 = f1_score(y_test, y_pred_lgb)\n",
    "elapsed_time = round((stop - start), 4)\n",
    "\n",
    "print(f'время работы алгоритма: {elapsed_time:.1f} секунд')\n",
    "print(f'Precision: {precision:.2f}')\n",
    "print(f'Recall: {recall:.2f}')\n",
    "print(f'F1 Score: {f1:.2f}')\n",
    "\n",
    "metrics['LightGBM_imp_feature'] = [precision, recall, f1, elapsed_time]"
   ]
  },
  {
   "cell_type": "markdown",
   "id": "d9a0bc8c",
   "metadata": {},
   "source": [
    "Вывод:\n",
    "без неважных признаков модель стала совсем немного лучше по recall, но значимо хуже по precision"
   ]
  },
  {
   "cell_type": "markdown",
   "id": "b38773b4",
   "metadata": {},
   "source": [
    "Попробуем отдать LightGBM самостоятельно кодировать признаки"
   ]
  },
  {
   "cell_type": "markdown",
   "id": "1cb541eb",
   "metadata": {},
   "source": [
    "Модель 8. LightGBM с самостоятельной обработкой категориальных признаков"
   ]
  },
  {
   "cell_type": "code",
   "execution_count": null,
   "id": "07e051ae",
   "metadata": {
    "vscode": {
     "languageId": "plaintext"
    }
   },
   "outputs": [],
   "source": [
    "cat_features = [\n",
    "    'Source',\n",
    "    'day_period',\n",
    "    'visitDuration_category',\n",
    "    'type_device',\n",
    "    'UTMSource_category',\n",
    "    'operatingSystem_category',\n",
    "    'regionCity'\n",
    "    ]  # категориальные фичи\n",
    "\n",
    "df_lgb_categ = df.copy()\n",
    "\n",
    "df_lgb_categ.drop(\n",
    "    [\n",
    "        'visitID',\n",
    "        'date',\n",
    "        'dateTime',\n",
    "        'dateTimeUTC',\n",
    "        'startURL',\n",
    "        'endURL',\n",
    "        'clientID',\n",
    "        'counterUserIDHash',\n",
    "        'mobilePhone',\n",
    "        'operatingSystemRoot',\n",
    "        'operatingSystem',\n",
    "        'browser',\n",
    "        'UTMCampaign',\n",
    "        'UTMContent',\n",
    "        'UTMMedium',\n",
    "        'UTMSource',\n",
    "        'UTMTerm',\n",
    "        'visitDuration',\n",
    "        'total_regs',\n",
    "        'regionCountry',\n",
    "        'referer',\n",
    "        'lastTrafficSource',\n",
    "        'referer_domain',\n",
    "        'days_last_visit'\n",
    "        ] , axis =1 ,inplace = True)\n",
    "\n",
    "X = df_lgb_categ.drop(columns=['next_visit'])\n",
    "y = df_lgb_categ['next_visit']\n",
    "\n",
    "# разобьем данные на обучающую и тестовый выборки\n",
    "\n",
    "X_train, X_test, y_train, y_test = train_test_split(\n",
    "    X, y, test_size=0.2, stratify=y, random_state=42\n",
    ")\n",
    "X_train.shape\n",
    "\n",
    "# Преобразуем их в тип category\n",
    "for col in cat_features:\n",
    "    X_train[col] = X_train[col].astype('category')\n",
    "    X_test[col] = X_test[col].astype('category')\n"
   ]
  },
  {
   "cell_type": "code",
   "execution_count": null,
   "id": "b61958b7",
   "metadata": {
    "vscode": {
     "languageId": "plaintext"
    }
   },
   "outputs": [],
   "source": [
    "params = {\n",
    "    'objective': 'binary',\n",
    "    'metric': 'auc',\n",
    "    'max_depth': -1,   # Без ограничения глубины\n",
    "    'num_leaves': 31,  # Стандартное значение\n",
    "    'min_data_in_leaf': 5,  # Сделаем меньше, чтобы больше разбиений прошло\n",
    "    'min_gain_to_split': 0.0,  # Уберем ограничение на минимальное улучшение сплита\n",
    "    'feature_fraction': 0.8,\n",
    "    'verbose':0\n",
    "}\n",
    "start = time.time()\n",
    "\n",
    "model = lgb.LGBMClassifier(**params)\n",
    "model.fit(X_train, y_train)\n",
    "y_pred_lgb = model.predict(X_test)\n",
    "\n",
    "stop = time.time()\n",
    "print(classification_report(y_test, y_pred_lgb))\n",
    "\n",
    "\n",
    "precision = precision_score(y_test, y_pred_lgb)\n",
    "recall = recall_score(y_test, y_pred_lgb)\n",
    "f1 = f1_score(y_test, y_pred_lgb)\n",
    "elapsed_time = round((stop - start), 4)\n",
    "\n",
    "print(f'время работы алгоритма: {elapsed_time:.1f} секунд')\n",
    "print(f'Precision: {precision:.2f}')\n",
    "print(f'Recall: {recall:.2f}')\n",
    "print(f'F1 Score: {f1:.2f}')\n",
    "\n",
    "metrics['LightGBM_categ'] = [precision, recall, f1, elapsed_time]"
   ]
  },
  {
   "cell_type": "code",
   "execution_count": null,
   "id": "2ea94ec0",
   "metadata": {
    "vscode": {
     "languageId": "plaintext"
    }
   },
   "outputs": [],
   "source": [
    "metrics"
   ]
  },
  {
   "cell_type": "markdown",
   "id": "b865627e",
   "metadata": {},
   "source": [
    "Вывод:\n",
    "Качество не поменялось\n",
    "\n",
    "Попробуем подбор гиперпараметров"
   ]
  },
  {
   "cell_type": "markdown",
   "id": "4f83fc2f",
   "metadata": {},
   "source": [
    "Модель 9. LightGBM с подбором гиперпараметров"
   ]
  },
  {
   "cell_type": "code",
   "execution_count": null,
   "id": "e9394e75",
   "metadata": {
    "vscode": {
     "languageId": "plaintext"
    }
   },
   "outputs": [],
   "source": [
    "X = df_model.drop(columns=['next_visit'])\n",
    "y = df_model['next_visit']\n",
    "\n",
    "# разобьем данные на обучающую и тестовый выборки\n",
    "\n",
    "from sklearn.model_selection import train_test_split\n",
    "X_train, X_test, y_train, y_test = train_test_split(\n",
    "    X, y, test_size=0.2, stratify=y, random_state=42\n",
    ")\n",
    "X_train.shape"
   ]
  },
  {
   "cell_type": "code",
   "execution_count": null,
   "id": "c55937d4",
   "metadata": {
    "vscode": {
     "languageId": "plaintext"
    }
   },
   "outputs": [],
   "source": [
    "from sklearn.model_selection import RandomizedSearchCV\n",
    "from sklearn.metrics import make_scorer, f1_score\n",
    "\n",
    "# Создаём модель\n",
    "model = lgb.LGBMClassifier(objective='binary', metric='auc', verbose=0)\n",
    "\n",
    "# Гиперпараметры для перебора\n",
    "param_dist = {\n",
    "    'num_leaves': [15, 31, 63, 127],\n",
    "    'max_depth': [-1, 5, 10, 20, 50],\n",
    "    'learning_rate': [0.005, 0.01, 0.05, 0.1],\n",
    "    'min_child_samples': [5, 10, 20, 50],\n",
    "    'subsample': [0.6, 0.8, 1.0],\n",
    "    'colsample_bytree': [0.6, 0.8, 1.0],\n",
    "    'reg_alpha': [0, 0.1, 1],\n",
    "    'reg_lambda': [0, 0.1, 1]\n",
    "}\n",
    "\n",
    "# Используем F1 как метрику для оптимизации\n",
    "scorer = make_scorer(f1_score)\n",
    "\n",
    "# RandomizedSearchCV\n",
    "random_search = RandomizedSearchCV(\n",
    "    estimator=model,\n",
    "    param_distributions=param_dist,\n",
    "    scoring=scorer,\n",
    "    n_iter=50,           # Кол-во вариантов (можно больше, если есть время)\n",
    "    cv=3,                # Кросс-валидация\n",
    "    verbose=1,\n",
    "    n_jobs=-1,\n",
    "    random_state=42\n",
    ")\n",
    "start = time.time()\n",
    "random_search.fit(X_train, y_train)\n",
    "\n",
    "# Предсказания и результат\n",
    "best_model = random_search.best_estimator_\n",
    "y_pred_lgb = best_model.predict(X_test)\n",
    "stop = time.time()\n",
    "print(\"Best parameters:\", random_search.best_params_)\n",
    "print(\"F1 score on test set:\", f1_score(y_test, y_pred_lgb))\n",
    "\n",
    "\n",
    "precision = precision_score(y_test, y_pred_lgb)\n",
    "recall = recall_score(y_test, y_pred_lgb)\n",
    "f1 = f1_score(y_test, y_pred_lgb)\n",
    "elapsed_time = round((stop - start), 4)\n",
    "\n",
    "print(f'время работы алгоритма: {elapsed_time:.1f} секунд')\n",
    "print(f'Precision: {precision:.2f}')\n",
    "print(f'Recall: {recall:.2f}')\n",
    "print(f'F1 Score: {f1:.2f}')\n",
    "\n",
    "metrics['LightGBM_giperparam'] = [precision, recall, f1, elapsed_time]"
   ]
  },
  {
   "cell_type": "code",
   "execution_count": null,
   "id": "309b952c",
   "metadata": {
    "vscode": {
     "languageId": "plaintext"
    }
   },
   "outputs": [],
   "source": [
    "metrics"
   ]
  },
  {
   "cell_type": "markdown",
   "id": "08310289",
   "metadata": {},
   "source": [
    "Вывод:\n",
    "почти не улучшилось :)"
   ]
  },
  {
   "cell_type": "markdown",
   "id": "d583e0dd",
   "metadata": {},
   "source": [
    "Попробуем удалить выбросы и нули"
   ]
  },
  {
   "cell_type": "markdown",
   "id": "3ef7f5a7",
   "metadata": {},
   "source": [
    "Модель 10. LightGBM для увеличения recall"
   ]
  },
  {
   "cell_type": "code",
   "execution_count": null,
   "id": "faffcded",
   "metadata": {
    "vscode": {
     "languageId": "plaintext"
    }
   },
   "outputs": [],
   "source": [
    "X = df_model.drop(columns=['next_visit'])\n",
    "y = df_model['next_visit']\n",
    "\n",
    "# разобьем данные на обучающую и тестовый выборки\n",
    "\n",
    "from sklearn.model_selection import train_test_split\n",
    "X_train, X_test, y_train, y_test = train_test_split(\n",
    "    X, y, test_size=0.2, stratify=y, random_state=42\n",
    ")\n",
    "X_train.shape"
   ]
  },
  {
   "cell_type": "code",
   "execution_count": null,
   "id": "c736c952",
   "metadata": {
    "vscode": {
     "languageId": "plaintext"
    }
   },
   "outputs": [],
   "source": [
    "params = {\n",
    "    'objective': 'binary',\n",
    "    'metric': 'auc',\n",
    "    'max_depth': -1,   # Без ограничения глубины\n",
    "    'num_leaves': 31,  # Стандартное значение\n",
    "    'min_data_in_leaf': 5,  # Сделаем меньше, чтобы больше разбиений прошло\n",
    "    'min_gain_to_split': 0.0,  # Уберем ограничение на минимальное улучшение сплита\n",
    "    'feature_fraction': 0.8,\n",
    "    'verbose':0,\n",
    "    'scale_pos_weight': 2.3\n",
    "}\n",
    "start = time.time()\n",
    "\n",
    "model = lgb.LGBMClassifier(**params)\n",
    "model.fit(X_train, y_train)\n",
    "y_pred_lgb = model.predict(X_test)\n",
    "\n",
    "stop = time.time()\n",
    "print(classification_report(y_test, y_pred_lgb))\n",
    "\n",
    "\n",
    "precision = precision_score(y_test, y_pred_lgb)\n",
    "recall = recall_score(y_test, y_pred_lgb)\n",
    "f1 = f1_score(y_test, y_pred_lgb)\n",
    "elapsed_time = round((stop - start), 4)\n",
    "\n",
    "print(f'время работы алгоритма: {elapsed_time:.1f} секунд')\n",
    "print(f'Precision: {precision:.2f}')\n",
    "print(f'Recall: {recall:.2f}')\n",
    "print(f'F1 Score: {f1:.2f}')\n",
    "\n",
    "metrics['LightGBM_scale'] = [precision, recall, f1, elapsed_time]"
   ]
  },
  {
   "cell_type": "code",
   "execution_count": null,
   "id": "4cf24d92",
   "metadata": {
    "vscode": {
     "languageId": "plaintext"
    }
   },
   "outputs": [],
   "source": [
    "metrics"
   ]
  },
  {
   "cell_type": "markdown",
   "id": "b0beb877",
   "metadata": {},
   "source": [
    "Модель 11. LightGBM без выбросов"
   ]
  },
  {
   "cell_type": "code",
   "execution_count": null,
   "id": "cf6a9a18",
   "metadata": {
    "vscode": {
     "languageId": "plaintext"
    }
   },
   "outputs": [],
   "source": [
    "df_model = df_model.loc[\n",
    "    (df_model['visitDuration_min'] != 0) &\n",
    "    (df_model['pageViews']        != 0)\n",
    "]"
   ]
  },
  {
   "cell_type": "code",
   "execution_count": null,
   "id": "89e946f5",
   "metadata": {
    "vscode": {
     "languageId": "plaintext"
    }
   },
   "outputs": [],
   "source": [
    "X = df_model.drop(columns=['next_visit'])\n",
    "y = df_model['next_visit']\n",
    "\n",
    "# разобьем данные на обучающую и тестовый выборки\n",
    "\n",
    "from sklearn.model_selection import train_test_split\n",
    "X_train, X_test, y_train, y_test = train_test_split(\n",
    "    X, y, test_size=0.2, stratify=y, random_state=42\n",
    ")\n",
    "X_train.shape"
   ]
  },
  {
   "cell_type": "code",
   "execution_count": null,
   "id": "2966d2df",
   "metadata": {
    "vscode": {
     "languageId": "plaintext"
    }
   },
   "outputs": [],
   "source": [
    "params = {\n",
    "    'objective': 'binary',\n",
    "    'metric': 'auc',\n",
    "    'max_depth': -1,   # Без ограничения глубины\n",
    "    'num_leaves': 31,  # Стандартное значение\n",
    "    'min_data_in_leaf': 5,  # Сделаем меньше, чтобы больше разбиений прошло\n",
    "    'min_gain_to_split': 0.0,  # Уберем ограничение на минимальное улучшение сплита\n",
    "    'feature_fraction': 0.8,\n",
    "    'verbose':0,\n",
    "    'scale_pos_weight': 2.3\n",
    "}\n",
    "start = time.time()\n",
    "\n",
    "model = lgb.LGBMClassifier(**params)\n",
    "model.fit(X_train, y_train)\n",
    "y_pred_lgb = model.predict(X_test)\n",
    "\n",
    "stop = time.time()\n",
    "print(classification_report(y_test, y_pred_lgb))\n",
    "\n",
    "\n",
    "precision = precision_score(y_test, y_pred_lgb)\n",
    "recall = recall_score(y_test, y_pred_lgb)\n",
    "f1 = f1_score(y_test, y_pred_lgb)\n",
    "elapsed_time = round((stop - start), 4)\n",
    "\n",
    "print(f'время работы алгоритма: {elapsed_time:.1f} секунд')\n",
    "print(f'Precision: {precision:.2f}')\n",
    "print(f'Recall: {recall:.2f}')\n",
    "print(f'F1 Score: {f1:.2f}')\n",
    "\n",
    "metrics['LightGBM_no_zeros'] = [precision, recall, f1, elapsed_time]"
   ]
  },
  {
   "cell_type": "code",
   "execution_count": null,
   "id": "2961ca59",
   "metadata": {
    "vscode": {
     "languageId": "plaintext"
    }
   },
   "outputs": [],
   "source": [
    "metrics"
   ]
  },
  {
   "cell_type": "code",
   "execution_count": null,
   "id": "3f6272f6",
   "metadata": {
    "vscode": {
     "languageId": "plaintext"
    }
   },
   "outputs": [],
   "source": [
    "\n",
    "def find_best_threshold_df(y_true, y_pred_proba, plot=True):\n",
    "    thresholds = np.linspace(0, 1, 100)\n",
    "    rows = []\n",
    "    for thr in thresholds:\n",
    "        y_pred = (y_pred_proba >= thr).astype(int)\n",
    "        rows.append({\n",
    "            'threshold': thr,\n",
    "            'precision': precision_score(y_true, y_pred, zero_division=0),\n",
    "            'recall':    recall_score(y_true, y_pred, zero_division=0),\n",
    "            'f1':        f1_score(y_true, y_pred, zero_division=0)\n",
    "        })\n",
    "    df_scores = pd.DataFrame(rows)\n",
    "    best = df_scores.loc[df_scores['f1'].idxmax()]\n",
    "\n",
    "    if plot:\n",
    "        plt.figure(figsize=(8,4))\n",
    "        plt.plot(df_scores['threshold'], df_scores['precision'], label='Precision')\n",
    "        plt.plot(df_scores['threshold'], df_scores['recall'],    label='Recall')\n",
    "        plt.plot(df_scores['threshold'], df_scores['f1'],        label='F1')\n",
    "        plt.axvline(best['threshold'], color='gray', linestyle='--', label=f\"Best thr={best['threshold']:.2f}\")\n",
    "        plt.xlabel('Threshold'); plt.ylabel('Score')\n",
    "        plt.legend(); plt.grid(True); plt.tight_layout()\n",
    "        plt.show()\n",
    "\n",
    "    return best['threshold'], df_scores\n",
    "\n",
    "# ---------------------------------------\n",
    "# Как использовать:\n",
    "y_pred_proba = model.predict_proba(X_test)[:, 1]\n",
    "\n",
    "best_thr, scores_df = find_best_threshold_df(y_test, y_pred_proba)\n",
    "\n",
    "# Выводим лучший порог и его метрики:\n",
    "print(\"Лучший порог:\", best_thr)\n",
    "print(scores_df.loc[scores_df['threshold'] == best_thr])\n",
    "\n",
    "# Или вывести весь DataFrame:\n",
    "print(scores_df.head())    # первые 5 строк\n",
    "print(scores_df.tail())    # последние 5 строк\n"
   ]
  }
 ],
 "metadata": {
  "language_info": {
   "name": "python"
  }
 },
 "nbformat": 4,
 "nbformat_minor": 5
}
