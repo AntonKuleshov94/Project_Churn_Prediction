{
 "cells": [
  {
   "cell_type": "code",
   "execution_count": 79,
   "id": "987acc23",
   "metadata": {},
   "outputs": [],
   "source": [
    "# Импорт стандартных библиотек\n",
    "import time\n",
    "import pandas as pd\n",
    "import seaborn as sns\n",
    "import matplotlib.pyplot as plt\n",
    "\n",
    "# Импорт сторонних библиотек\n",
    "from sklearn.metrics import (\n",
    "    make_scorer, precision_score, recall_score, f1_score, classification_report\n",
    ")\n",
    "from sklearn.model_selection import train_test_split, RandomizedSearchCV\n",
    "from sklearn.preprocessing import StandardScaler, LabelEncoder\n",
    "from sklearn.tree import DecisionTreeClassifier\n",
    "from sklearn.ensemble import (\n",
    "    AdaBoostClassifier, BaggingClassifier, RandomForestClassifier, ExtraTreesClassifier, GradientBoostingClassifier\n",
    ")\n",
    "\n",
    "import lightgbm as lgb\n",
    "import xgboost as xgb\n",
    "import catboost as cb"
   ]
  },
  {
   "cell_type": "code",
   "execution_count": 80,
   "id": "7b3243ed",
   "metadata": {},
   "outputs": [],
   "source": [
    "df = pd.read_parquet(\"../data/prepared_data.parquet\")"
   ]
  },
  {
   "cell_type": "markdown",
   "id": "7f28bead",
   "metadata": {},
   "source": [
    "# Модель \"Прогнозирование оттока пользователей (Churn Prediction)\"\n",
    "\n",
    "# Задача: Предсказать, какие пользователи с высокой вероятностью не вернутся на сайт.\n",
    "# Будем использовать несколько моделей, метриками качества будут выступать precision, recall, f1, время работы модели по прогнозированию\n",
    "\n",
    "# Цель: верно определить, кто уйдёт (True Positive churn) — чтобы не пропустить пользователя, который уйдёт, направить ресурсы на удержание, повысив эффективность затрат."
   ]
  },
  {
   "cell_type": "markdown",
   "id": "8ef56977",
   "metadata": {},
   "source": [
    "# Для модели будем использовать фичи:\n",
    "\n",
    "1. Таргет\n",
    "next_visit\n",
    "\n",
    "2. Количественные\n",
    "pageViews\n",
    "visitDuration_min\n",
    "visits_before\n",
    "days_last_visit\n",
    "\n",
    "3. Категориальные\n",
    "Source\n",
    "UTMSource_category\n",
    "weekday - уже закодировано\n",
    "day_period\n",
    "visitDuration_category\n",
    "operatingSystem_category\n",
    "type_device\n",
    "regionCity - используем частотное кодирование, много значений\n",
    "\n",
    "4. Бинарные\n",
    "isNewUser\n",
    "bounce\n",
    "has_registration\n",
    "registration_left\n",
    "is_weekend"
   ]
  },
  {
   "cell_type": "markdown",
   "id": "871bdefb",
   "metadata": {},
   "source": [
    "# Часть 1. Подготовка дата фрейма для модели"
   ]
  },
  {
   "cell_type": "code",
   "execution_count": 81,
   "id": "b676b490",
   "metadata": {},
   "outputs": [],
   "source": [
    "# инверсия значений столбца следующего визита, чтобы True было у тех, кто не вернётся - прогнозируем именно уходы\n",
    "df['next_visit'] = ~df['next_visit']"
   ]
  },
  {
   "cell_type": "code",
   "execution_count": 82,
   "id": "a980f1a7",
   "metadata": {},
   "outputs": [],
   "source": [
    "# делаем копию дата фрейма для модели и удаляем ненужные колонки\n",
    "\n",
    "df_model = df.copy()\n",
    "\n",
    "df_model.drop(\n",
    "    [\n",
    "        'visitID',\n",
    "        'date',\n",
    "        'dateTime',\n",
    "        'dateTimeUTC',\n",
    "        'startURL',\n",
    "        'endURL',\n",
    "        'clientID',\n",
    "        'counterUserIDHash',\n",
    "        'mobilePhone',\n",
    "        'operatingSystemRoot',\n",
    "        'operatingSystem',\n",
    "        'browser',\n",
    "        'UTMCampaign',\n",
    "        'UTMContent',\n",
    "        'UTMMedium',\n",
    "        'UTMSource',\n",
    "        'UTMTerm',\n",
    "        'visitDuration',\n",
    "        'total_regs',\n",
    "        'regionCountry',\n",
    "        'referer',\n",
    "        'lastTrafficSource',\n",
    "        'referer_domain',\n",
    "        'days_last_visit'\n",
    "        ] , axis =1 ,inplace = True)"
   ]
  },
  {
   "cell_type": "markdown",
   "id": "6964d2cc",
   "metadata": {},
   "source": [
    "# Кодируем категориальные признаки, масштабируем количественные"
   ]
  },
  {
   "cell_type": "code",
   "execution_count": 83,
   "id": "03e5d503",
   "metadata": {},
   "outputs": [],
   "source": [
    "# применяем fit_transform\n",
    "# Определяем числовые столбцы\n",
    "numeric_cols = df_model.select_dtypes(include='number').columns\n",
    "\n",
    "# Создаём копии, чтобы не терять остальные признаки\n",
    "df_model_scaled = df_model.copy()\n",
    "\n",
    "# Масштабируем только числовые колонки\n",
    "scaler = StandardScaler()\n",
    "df_model_scaled[numeric_cols] = scaler.fit_transform(df_model[numeric_cols])\n",
    "\n",
    "# используем частотное кодирование\n",
    "city_freq = df_model['regionCity'].value_counts(normalize=True)\n",
    "df_model['city_freq'] = df_model['regionCity'].map(city_freq)\n",
    "df_model.drop(['regionCity'] , axis =1 ,inplace = True)"
   ]
  },
  {
   "cell_type": "code",
   "execution_count": 84,
   "id": "f8a3580f",
   "metadata": {},
   "outputs": [],
   "source": [
    "# для категориальных данных используем числовое кодирование\n",
    "label_encoder = LabelEncoder()\n",
    "selected_columns = ['Source',\n",
    "                   'day_period',\n",
    "                   'visitDuration_category',\n",
    "                   'type_device',\n",
    "                   'UTMSource_category',\n",
    "                   'operatingSystem_category']\n",
    "\n",
    "encoded_columns = {}\n",
    "for col in selected_columns:\n",
    "    df_model[col] = label_encoder.fit_transform(df_model[col])\n",
    "    encoded_columns[col] = dict(zip(label_encoder.classes_, label_encoder.transform(label_encoder.classes_)))"
   ]
  },
  {
   "cell_type": "code",
   "execution_count": 85,
   "id": "26119a91",
   "metadata": {},
   "outputs": [
    {
     "data": {
      "text/plain": [
       "(259990, 16)"
      ]
     },
     "execution_count": 85,
     "metadata": {},
     "output_type": "execute_result"
    }
   ],
   "source": [
    "# разобьем данные на обучающую и тестовую выборки\n",
    "X = df_model.drop(columns=['next_visit'])\n",
    "y = df_model['next_visit']\n",
    "\n",
    "X_train, X_test, y_train, y_test = train_test_split(\n",
    "    X, y, test_size=0.2, stratify=y, random_state=42\n",
    ")\n",
    "X_train.shape"
   ]
  },
  {
   "cell_type": "code",
   "execution_count": 86,
   "id": "fbc64b7a",
   "metadata": {},
   "outputs": [
    {
     "name": "stderr",
     "output_type": "stream",
     "text": [
      "C:\\Users\\Антон\\AppData\\Local\\Temp\\ipykernel_2424\\2201571235.py:4: FutureWarning: \n",
      "\n",
      "Passing `palette` without assigning `hue` is deprecated and will be removed in v0.14.0. Assign the `x` variable to `hue` and set `legend=False` for the same effect.\n",
      "\n",
      "  sns.countplot(x=y, palette='viridis')\n"
     ]
    },
    {
     "data": {
      "image/png": "[encoded data removed]",
      "text/plain": [
       "<Figure size 600x400 with 1 Axes>"
      ]
     },
     "metadata": {},
     "output_type": "display_data"
    },
    {
     "name": "stdout",
     "output_type": "stream",
     "text": [
      "Соотношение классов:\n",
      " next_visit\n",
      "True     0.651999\n",
      "False    0.348001\n",
      "Name: proportion, dtype: float64\n",
      "1.5\n"
     ]
    }
   ],
   "source": [
    "# исследуем соотношение классов для таргета\n",
    "\n",
    "plt.figure(figsize=(6, 4))\n",
    "sns.countplot(x=y, palette='viridis')\n",
    "plt.title('Распределение классов Revenue')\n",
    "plt.show()\n",
    "\n",
    "print(\"Соотношение классов:\\n\", df['next_visit'].value_counts(normalize=True))\n",
    "print(round(len(df['next_visit'])/len(df[df['next_visit'] == 1]), 1))\n",
    "\n",
    "# вывод: классы не сбалансированы"
   ]
  },
  {
   "cell_type": "code",
   "execution_count": 87,
   "id": "ca35cfaf",
   "metadata": {},
   "outputs": [],
   "source": [
    "# создадим дата фрейм для сохранения метрик моделей и дальнейшего выбора модели\n",
    "metrics = pd.DataFrame(index=['precision', 'recall', 'f1', 'time'])"
   ]
  },
  {
   "cell_type": "markdown",
   "id": "010a95e7",
   "metadata": {},
   "source": [
    "# Часть 2. Запуск и сравнение моделей машинного обучения для выбора лучшей\n",
    "\n",
    "# Модель 1. Бэггинг"
   ]
  },
  {
   "cell_type": "code",
   "execution_count": 88,
   "id": "85bfde82",
   "metadata": {},
   "outputs": [
    {
     "name": "stdout",
     "output_type": "stream",
     "text": [
      "==============================\n",
      "Model: BaggingClassifier\n",
      "              precision    recall  f1-score   support\n",
      "\n",
      "       False       0.78      0.67      0.72     22619\n",
      "        True       0.84      0.90      0.87     42379\n",
      "\n",
      "    accuracy                           0.82     64998\n",
      "   macro avg       0.81      0.79      0.80     64998\n",
      "weighted avg       0.82      0.82      0.82     64998\n",
      "\n",
      "==============================\n",
      "Model: RandomForestClassifier\n",
      "              precision    recall  f1-score   support\n",
      "\n",
      "       False       0.78      0.67      0.73     22619\n",
      "        True       0.84      0.90      0.87     42379\n",
      "\n",
      "    accuracy                           0.82     64998\n",
      "   macro avg       0.81      0.79      0.80     64998\n",
      "weighted avg       0.82      0.82      0.82     64998\n",
      "\n",
      "==============================\n",
      "Model: ExtraTreesClassifier\n",
      "              precision    recall  f1-score   support\n",
      "\n",
      "       False       0.74      0.69      0.71     22619\n",
      "        True       0.84      0.87      0.85     42379\n",
      "\n",
      "    accuracy                           0.81     64998\n",
      "   macro avg       0.79      0.78      0.78     64998\n",
      "weighted avg       0.80      0.81      0.80     64998\n",
      "\n",
      "время работы алгоритма: 91.2 секунд\n",
      "Precision: 0.84\n",
      "Recall: 0.87\n",
      "F1 Score: 0.85\n"
     ]
    }
   ],
   "source": [
    "models = {\n",
    "    \"BaggingClassifier\": BaggingClassifier(estimator=DecisionTreeClassifier(), n_estimators=50, random_state=42),\n",
    "    \"RandomForestClassifier\": RandomForestClassifier(n_estimators=50, random_state=42),\n",
    "    \"ExtraTreesClassifier\": ExtraTreesClassifier(n_estimators=50, random_state=42)\n",
    "}\n",
    "\n",
    "# обучаем модели и выводим classification_report\n",
    "start = time.time()\n",
    "for name, model in models.items():\n",
    "    print(\"=\"*30)\n",
    "    print(f\"Model: {name}\")\n",
    "    model.fit(X_train, y_train)  # обучаем модель\n",
    "\n",
    "    y_pred = model.predict(X_test)  # предсказываем классы\n",
    "    stop = time.time()\n",
    "    # выводим classification_report\n",
    "    print(classification_report(y_test, y_pred))\n",
    "\n",
    "precision = precision_score(y_test, y_pred)\n",
    "recall = recall_score(y_test, y_pred)\n",
    "f1 = f1_score(y_test, y_pred)\n",
    "elapsed_time = round((stop - start), 4)\n",
    "\n",
    "print(f'время работы алгоритма: {elapsed_time:.1f} секунд')\n",
    "print(f'Precision: {precision:.2f}')\n",
    "print(f'Recall: {recall:.2f}')\n",
    "print(f'F1 Score: {f1:.2f}')\n",
    "\n",
    "metrics['bagging'] = [precision, recall, f1, elapsed_time]"
   ]
  },
  {
   "cell_type": "markdown",
   "id": "1c91ba67",
   "metadata": {},
   "source": [
    "# Модель 2. AdaBoost"
   ]
  },
  {
   "cell_type": "code",
   "execution_count": 89,
   "id": "996747ab",
   "metadata": {},
   "outputs": [
    {
     "name": "stdout",
     "output_type": "stream",
     "text": [
      "              precision    recall  f1-score   support\n",
      "\n",
      "       False       0.86      0.64      0.74     22619\n",
      "        True       0.83      0.95      0.89     42379\n",
      "\n",
      "    accuracy                           0.84     64998\n",
      "   macro avg       0.85      0.79      0.81     64998\n",
      "weighted avg       0.84      0.84      0.83     64998\n",
      "\n",
      "время работы алгоритма: 7.5 секунд\n",
      "Precision: 0.83\n",
      "Recall: 0.95\n",
      "F1 Score: 0.89\n"
     ]
    }
   ],
   "source": [
    "start = time.time()\n",
    "\n",
    "# Создаём и обучаем AdaBoost\n",
    "ada = AdaBoostClassifier(estimator=DecisionTreeClassifier(max_depth=1), n_estimators=50, random_state=42)\n",
    "ada.fit(X_train, y_train)\n",
    "y_pred_ada = ada.predict(X_test)\n",
    "\n",
    "stop = time.time()\n",
    "print(classification_report(y_test, y_pred_ada))\n",
    "\n",
    "precision = precision_score(y_test, y_pred_ada)\n",
    "recall = recall_score(y_test, y_pred_ada)\n",
    "f1 = f1_score(y_test, y_pred_ada)\n",
    "elapsed_time = round((stop - start), 4)\n",
    "\n",
    "print(f'время работы алгоритма: {elapsed_time:.1f} секунд')\n",
    "print(f'Precision: {precision:.2f}')\n",
    "print(f'Recall: {recall:.2f}')\n",
    "print(f'F1 Score: {f1:.2f}')\n",
    "\n",
    "metrics['AdaBoost'] = [precision, recall, f1, elapsed_time]"
   ]
  },
  {
   "cell_type": "markdown",
   "id": "aa6d6fe3",
   "metadata": {},
   "source": [
    "# Модель 3. GBM"
   ]
  },
  {
   "cell_type": "code",
   "execution_count": 90,
   "id": "944e5502",
   "metadata": {},
   "outputs": [
    {
     "name": "stdout",
     "output_type": "stream",
     "text": [
      "              precision    recall  f1-score   support\n",
      "\n",
      "       False       0.87      0.65      0.74     22619\n",
      "        True       0.83      0.95      0.89     42379\n",
      "\n",
      "    accuracy                           0.84     64998\n",
      "   macro avg       0.85      0.80      0.82     64998\n",
      "weighted avg       0.85      0.84      0.84     64998\n",
      "\n",
      "время работы алгоритма: 28.6 секунд\n",
      "Precision: 0.83\n",
      "Recall: 0.95\n",
      "F1 Score: 0.89\n"
     ]
    }
   ],
   "source": [
    "start = time.time()\n",
    "\n",
    "gbm = GradientBoostingClassifier(n_estimators=100, learning_rate=0.1, max_depth=3, random_state=42)\n",
    "gbm.fit(X_train, y_train)\n",
    "y_pred_gbm = gbm.predict(X_test)\n",
    "\n",
    "stop = time.time()\n",
    "print(classification_report(y_test, y_pred_gbm))\n",
    "\n",
    "precision = precision_score(y_test, y_pred_gbm)\n",
    "recall = recall_score(y_test, y_pred_gbm)\n",
    "f1 = f1_score(y_test, y_pred_gbm)\n",
    "elapsed_time = round((stop - start), 4)\n",
    "\n",
    "print(f'время работы алгоритма: {elapsed_time:.1f} секунд')\n",
    "print(f'Precision: {precision:.2f}')\n",
    "print(f'Recall: {recall:.2f}')\n",
    "print(f'F1 Score: {f1:.2f}')\n",
    "\n",
    "metrics['GBM'] = [precision, recall, f1, elapsed_time]"
   ]
  },
  {
   "cell_type": "markdown",
   "id": "db45c12d",
   "metadata": {},
   "source": [
    "# Модель 4. XGBoost"
   ]
  },
  {
   "cell_type": "code",
   "execution_count": 91,
   "id": "26a20b5d",
   "metadata": {},
   "outputs": [
    {
     "name": "stdout",
     "output_type": "stream",
     "text": [
      "              precision    recall  f1-score   support\n",
      "\n",
      "       False       0.87      0.64      0.74     22619\n",
      "        True       0.83      0.95      0.89     42379\n",
      "\n",
      "    accuracy                           0.84     64998\n",
      "   macro avg       0.85      0.80      0.81     64998\n",
      "weighted avg       0.85      0.84      0.84     64998\n",
      "\n",
      "время работы алгоритма: 1.0 секунд\n",
      "Precision: 0.83\n",
      "Recall: 0.95\n",
      "F1 Score: 0.89\n"
     ]
    }
   ],
   "source": [
    "start = time.time()\n",
    "\n",
    "xgb_model = xgb.XGBClassifier(n_estimators=100, learning_rate=0.1, max_depth=3, random_state=42, eval_metric=\"logloss\")\n",
    "xgb_model.fit(X_train, y_train)\n",
    "y_pred_xgb = xgb_model.predict(X_test)\n",
    "\n",
    "stop = time.time()\n",
    "print(classification_report(y_test, y_pred_xgb))\n",
    "\n",
    "precision = precision_score(y_test, y_pred_xgb)\n",
    "recall = recall_score(y_test, y_pred_xgb)\n",
    "f1 = f1_score(y_test, y_pred_xgb)\n",
    "elapsed_time = round((stop - start), 4)\n",
    "\n",
    "print(f'время работы алгоритма: {elapsed_time:.1f} секунд')\n",
    "print(f'Precision: {precision:.2f}')\n",
    "print(f'Recall: {recall:.2f}')\n",
    "print(f'F1 Score: {f1:.2f}')\n",
    "\n",
    "metrics['XGBoost'] = [precision, recall, f1, elapsed_time]"
   ]
  },
  {
   "cell_type": "markdown",
   "id": "948f8b20",
   "metadata": {},
   "source": [
    "# Модель 5. LightGBM"
   ]
  },
  {
   "cell_type": "code",
   "execution_count": 92,
   "id": "46787bc0",
   "metadata": {},
   "outputs": [
    {
     "name": "stdout",
     "output_type": "stream",
     "text": [
      "[LightGBM] [Warning] min_data_in_leaf is set=5, min_child_samples=20 will be ignored. Current value: min_data_in_leaf=5\n",
      "[LightGBM] [Warning] feature_fraction is set=0.8, colsample_bytree=1.0 will be ignored. Current value: feature_fraction=0.8\n",
      "[LightGBM] [Warning] min_gain_to_split is set=0.0, min_split_gain=0.0 will be ignored. Current value: min_gain_to_split=0.0\n",
      "[LightGBM] [Warning] min_data_in_leaf is set=5, min_child_samples=20 will be ignored. Current value: min_data_in_leaf=5\n",
      "[LightGBM] [Warning] feature_fraction is set=0.8, colsample_bytree=1.0 will be ignored. Current value: feature_fraction=0.8\n",
      "[LightGBM] [Warning] min_gain_to_split is set=0.0, min_split_gain=0.0 will be ignored. Current value: min_gain_to_split=0.0\n",
      "[LightGBM] [Warning] min_data_in_leaf is set=5, min_child_samples=20 will be ignored. Current value: min_data_in_leaf=5\n",
      "[LightGBM] [Warning] feature_fraction is set=0.8, colsample_bytree=1.0 will be ignored. Current value: feature_fraction=0.8\n",
      "[LightGBM] [Warning] min_gain_to_split is set=0.0, min_split_gain=0.0 will be ignored. Current value: min_gain_to_split=0.0\n",
      "              precision    recall  f1-score   support\n",
      "\n",
      "       False       0.87      0.65      0.75     22619\n",
      "        True       0.84      0.95      0.89     42379\n",
      "\n",
      "    accuracy                           0.85     64998\n",
      "   macro avg       0.85      0.80      0.82     64998\n",
      "weighted avg       0.85      0.85      0.84     64998\n",
      "\n",
      "время работы алгоритма: 1.8 секунд\n",
      "Precision: 0.84\n",
      "Recall: 0.95\n",
      "F1 Score: 0.89\n"
     ]
    }
   ],
   "source": [
    "params = {\n",
    "    'objective': 'binary',\n",
    "    'metric': 'auc',\n",
    "    'max_depth': -1,   # Без ограничения глубины\n",
    "    'num_leaves': 31,  # Стандартное значение\n",
    "    'min_data_in_leaf': 5,  # Сделаем меньше, чтобы больше разбиений прошло\n",
    "    'min_gain_to_split': 0.0,  # Уберем ограничение на минимальное улучшение сплита\n",
    "    'feature_fraction': 0.8,\n",
    "    'verbose':0\n",
    "}\n",
    "start = time.time()\n",
    "\n",
    "model = lgb.LGBMClassifier(**params)\n",
    "model.fit(X_train, y_train)\n",
    "y_pred_lgb = model.predict(X_test)\n",
    "\n",
    "stop = time.time()\n",
    "print(classification_report(y_test, y_pred_lgb))\n",
    "\n",
    "precision = precision_score(y_test, y_pred_lgb)\n",
    "recall = recall_score(y_test, y_pred_lgb)\n",
    "f1 = f1_score(y_test, y_pred_lgb)\n",
    "elapsed_time = round((stop - start), 4)\n",
    "\n",
    "print(f'время работы алгоритма: {elapsed_time:.1f} секунд')\n",
    "print(f'Precision: {precision:.2f}')\n",
    "print(f'Recall: {recall:.2f}')\n",
    "print(f'F1 Score: {f1:.2f}')\n",
    "\n",
    "metrics['LightGBM'] = [precision, recall, f1, elapsed_time]"
   ]
  },
  {
   "cell_type": "markdown",
   "id": "78aea893",
   "metadata": {},
   "source": [
    "# Модель 6. CatBoost"
   ]
  },
  {
   "cell_type": "code",
   "execution_count": 93,
   "id": "e8bf941c",
   "metadata": {},
   "outputs": [],
   "source": [
    "# подготовка данных для модели\n",
    "df_cat = df.copy()\n",
    "df_cat.drop(\n",
    "    [\n",
    "        'visitID',\n",
    "        'date',\n",
    "        'dateTime',\n",
    "        'dateTimeUTC',\n",
    "        'startURL',\n",
    "        'endURL',\n",
    "        'clientID',\n",
    "        'counterUserIDHash',\n",
    "        'mobilePhone',\n",
    "        'operatingSystemRoot',\n",
    "        'operatingSystem',\n",
    "        'browser',\n",
    "        'UTMCampaign',\n",
    "        'UTMContent',\n",
    "        'UTMMedium',\n",
    "        'UTMSource',\n",
    "        'UTMTerm',\n",
    "        'visitDuration',\n",
    "        'total_regs',\n",
    "        'regionCountry',\n",
    "        'referer',\n",
    "        'lastTrafficSource',\n",
    "        'referer_domain',\n",
    "        'days_last_visit'\n",
    "        ] , axis =1 ,inplace = True)"
   ]
  },
  {
   "cell_type": "code",
   "execution_count": 94,
   "id": "8c3ef5d3",
   "metadata": {},
   "outputs": [
    {
     "name": "stdout",
     "output_type": "stream",
     "text": [
      "              precision    recall  f1-score   support\n",
      "\n",
      "       False       0.87      0.65      0.74     22619\n",
      "        True       0.83      0.95      0.89     42379\n",
      "\n",
      "    accuracy                           0.84     64998\n",
      "   macro avg       0.85      0.80      0.82     64998\n",
      "weighted avg       0.85      0.84      0.84     64998\n",
      "\n",
      "время работы алгоритма: 8.1 секунд\n",
      "Precision: 0.83\n",
      "Recall: 0.95\n",
      "F1 Score: 0.89\n"
     ]
    }
   ],
   "source": [
    "X_cat = df_cat.drop(columns=['next_visit'])\n",
    "y_cat = df_cat['next_visit']\n",
    "# разделяем данные на тренировочную (80%) и тестовую (20%) выборки с учетом дисбаланса (stratify=y)\n",
    "X_train_cat, X_test_cat, y_train_cat, y_test_cat = train_test_split(X_cat, y_cat, test_size=0.2, stratify=y, random_state=42)\n",
    "\n",
    "# определяем категориальные признаки\n",
    "cat_features = [\n",
    "    'Source',\n",
    "    'day_period',\n",
    "    'visitDuration_category',\n",
    "    'type_device',\n",
    "    'UTMSource_category',\n",
    "    'operatingSystem_category',\n",
    "    'regionCity'\n",
    "    ]\n",
    "start = time.time()\n",
    "\n",
    "# создаём и обучаем CatBoostClassifier\n",
    "cat_model = cb.CatBoostClassifier(iterations=100, learning_rate=0.1, depth=3, random_state=42, verbose=0)\n",
    "cat_model.fit(X_train_cat, y_train_cat, cat_features=cat_features)\n",
    "y_pred_cat = cat_model.predict(X_test_cat)\n",
    "\n",
    "stop = time.time()\n",
    "print(classification_report(y_test_cat, y_pred_cat))\n",
    "\n",
    "precision = precision_score(y_test_cat, y_pred_cat)\n",
    "recall = recall_score(y_test_cat, y_pred_cat)\n",
    "f1 = f1_score(y_test_cat, y_pred_cat)\n",
    "elapsed_time = round((stop - start), 4)\n",
    "\n",
    "print(f'время работы алгоритма: {elapsed_time:.1f} секунд')\n",
    "print(f'Precision: {precision:.2f}')\n",
    "print(f'Recall: {recall:.2f}')\n",
    "print(f'F1 Score: {f1:.2f}')\n",
    "\n",
    "metrics['CatBoost'] = [precision, recall, f1, elapsed_time]"
   ]
  },
  {
   "cell_type": "code",
   "execution_count": 95,
   "id": "c545539a",
   "metadata": {},
   "outputs": [],
   "source": [
    "metrics.to_csv('../data/result_modelling.csv', index=False)"
   ]
  },
  {
   "cell_type": "code",
   "execution_count": 96,
   "id": "405e18fc",
   "metadata": {},
   "outputs": [
    {
     "data": {
      "text/html": [
       "<div>\n",
       "<style scoped>\n",
       "    .dataframe tbody tr th:only-of-type {\n",
       "        vertical-align: middle;\n",
       "    }\n",
       "\n",
       "    .dataframe tbody tr th {\n",
       "        vertical-align: top;\n",
       "    }\n",
       "\n",
       "    .dataframe thead th {\n",
       "        text-align: right;\n",
       "    }\n",
       "</style>\n",
       "<table border=\"1\" class=\"dataframe\">\n",
       "  <thead>\n",
       "    <tr style=\"text-align: right;\">\n",
       "      <th></th>\n",
       "      <th>bagging</th>\n",
       "      <th>AdaBoost</th>\n",
       "      <th>GBM</th>\n",
       "      <th>XGBoost</th>\n",
       "      <th>LightGBM</th>\n",
       "      <th>CatBoost</th>\n",
       "    </tr>\n",
       "  </thead>\n",
       "  <tbody>\n",
       "    <tr>\n",
       "      <th>precision</th>\n",
       "      <td>0.838169</td>\n",
       "      <td>0.832215</td>\n",
       "      <td>0.834558</td>\n",
       "      <td>0.833189</td>\n",
       "      <td>0.836192</td>\n",
       "      <td>0.834588</td>\n",
       "    </tr>\n",
       "    <tr>\n",
       "      <th>recall</th>\n",
       "      <td>0.870408</td>\n",
       "      <td>0.945209</td>\n",
       "      <td>0.948677</td>\n",
       "      <td>0.950306</td>\n",
       "      <td>0.949173</td>\n",
       "      <td>0.949716</td>\n",
       "    </tr>\n",
       "    <tr>\n",
       "      <th>f1</th>\n",
       "      <td>0.853984</td>\n",
       "      <td>0.885120</td>\n",
       "      <td>0.887966</td>\n",
       "      <td>0.887902</td>\n",
       "      <td>0.889107</td>\n",
       "      <td>0.888438</td>\n",
       "    </tr>\n",
       "    <tr>\n",
       "      <th>time</th>\n",
       "      <td>91.222900</td>\n",
       "      <td>7.518000</td>\n",
       "      <td>28.643100</td>\n",
       "      <td>1.022100</td>\n",
       "      <td>1.758600</td>\n",
       "      <td>8.090700</td>\n",
       "    </tr>\n",
       "  </tbody>\n",
       "</table>\n",
       "</div>"
      ],
      "text/plain": [
       "             bagging  AdaBoost        GBM   XGBoost  LightGBM  CatBoost\n",
       "precision   0.838169  0.832215   0.834558  0.833189  0.836192  0.834588\n",
       "recall      0.870408  0.945209   0.948677  0.950306  0.949173  0.949716\n",
       "f1          0.853984  0.885120   0.887966  0.887902  0.889107  0.888438\n",
       "time       91.222900  7.518000  28.643100  1.022100  1.758600  8.090700"
      ]
     },
     "execution_count": 96,
     "metadata": {},
     "output_type": "execute_result"
    }
   ],
   "source": [
    "metrics"
   ]
  },
  {
   "cell_type": "markdown",
   "id": "0f34cec6",
   "metadata": {},
   "source": [
    "# Выводы по запуску и сравнению нескольких моделей:\n",
    "\n",
    "# 1. Лучше всего с задачей справились LightGBM и XGBoost\n",
    "# Выберем LightGBM как более сбалансированную\n",
    "- Recall = 0.949: поскольку цель — определить, кто уйдёт, ключевой метрикой становится полнота. Модель находит почти всех реально ушедших пользователей, пропуская лишь небольшую долю.\n",
    "- Precision = 0.836: точность не идеальна — около 16% пользователей, которых модель посчитала \"ушедшими\", на самом деле остаются. Это означает, что модель иногда ошибается, «перестраховываясь», но, тем не менее, делает это не слишком часто.\n",
    "- F1-score = 0.889: значение F1 указывает на хороший баланс между точностью и полнотой, что делает модель надёжной для практического применения.\n",
    "- Время = 2.24 секунды: модель работает очень быстро и подходит для регулярного переобучения или применения в продакшене."
   ]
  },
  {
   "cell_type": "markdown",
   "id": "086cfca4",
   "metadata": {},
   "source": [
    "# Часть 3. Запуск наилучшей модели LightGBM, но без неважных признаков\n",
    "\n",
    "# Модель 7. LightGBM без неважных фичей"
   ]
  },
  {
   "cell_type": "code",
   "execution_count": 97,
   "id": "f685df22",
   "metadata": {},
   "outputs": [],
   "source": [
    "# подготовим данные\n",
    "df_lgb = df_model.copy()\n",
    "df_lgb.drop([\n",
    "    'bounce',\n",
    "    'registration_left',\n",
    "    'has_registration',\n",
    "    'weekday',\n",
    "    'is_weekend',\n",
    "    'visits_before'\n",
    "], axis =1 ,inplace = True)"
   ]
  },
  {
   "cell_type": "code",
   "execution_count": 98,
   "id": "66359b73",
   "metadata": {},
   "outputs": [
    {
     "data": {
      "text/plain": [
       "(259990, 10)"
      ]
     },
     "execution_count": 98,
     "metadata": {},
     "output_type": "execute_result"
    }
   ],
   "source": [
    "# разобьем данные на обучающую и тестовую выборки\n",
    "X = df_lgb.drop(columns=['next_visit'])\n",
    "y = df_lgb['next_visit']\n",
    "\n",
    "X_train, X_test, y_train, y_test = train_test_split(\n",
    "    X, y, test_size=0.2, stratify=y, random_state=42\n",
    ")\n",
    "X_train.shape"
   ]
  },
  {
   "cell_type": "code",
   "execution_count": 99,
   "id": "a82d1d4d",
   "metadata": {},
   "outputs": [
    {
     "name": "stdout",
     "output_type": "stream",
     "text": [
      "[LightGBM] [Warning] min_data_in_leaf is set=5, min_child_samples=20 will be ignored. Current value: min_data_in_leaf=5\n",
      "[LightGBM] [Warning] feature_fraction is set=0.8, colsample_bytree=1.0 will be ignored. Current value: feature_fraction=0.8\n",
      "[LightGBM] [Warning] min_gain_to_split is set=0.0, min_split_gain=0.0 will be ignored. Current value: min_gain_to_split=0.0\n",
      "[LightGBM] [Warning] min_data_in_leaf is set=5, min_child_samples=20 will be ignored. Current value: min_data_in_leaf=5\n",
      "[LightGBM] [Warning] feature_fraction is set=0.8, colsample_bytree=1.0 will be ignored. Current value: feature_fraction=0.8\n",
      "[LightGBM] [Warning] min_gain_to_split is set=0.0, min_split_gain=0.0 will be ignored. Current value: min_gain_to_split=0.0\n",
      "[LightGBM] [Warning] min_data_in_leaf is set=5, min_child_samples=20 will be ignored. Current value: min_data_in_leaf=5\n",
      "[LightGBM] [Warning] feature_fraction is set=0.8, colsample_bytree=1.0 will be ignored. Current value: feature_fraction=0.8\n",
      "[LightGBM] [Warning] min_gain_to_split is set=0.0, min_split_gain=0.0 will be ignored. Current value: min_gain_to_split=0.0\n",
      "              precision    recall  f1-score   support\n",
      "\n",
      "       False       0.83      0.66      0.73     22619\n",
      "        True       0.84      0.93      0.88     42379\n",
      "\n",
      "    accuracy                           0.83     64998\n",
      "   macro avg       0.83      0.79      0.81     64998\n",
      "weighted avg       0.83      0.83      0.83     64998\n",
      "\n",
      "время работы алгоритма: 1.8 секунд\n",
      "Precision: 0.84\n",
      "Recall: 0.93\n",
      "F1 Score: 0.88\n"
     ]
    }
   ],
   "source": [
    "params = {\n",
    "    'objective': 'binary',\n",
    "    'metric': 'auc',\n",
    "    'max_depth': -1,   # Без ограничения глубины\n",
    "    'num_leaves': 31,  # Стандартное значение\n",
    "    'min_data_in_leaf': 5,  # Сделаем меньше, чтобы больше разбиений прошло\n",
    "    'min_gain_to_split': 0.0,  # Уберем ограничение на минимальное улучшение сплита\n",
    "    'feature_fraction': 0.8,\n",
    "    'verbose':0\n",
    "}\n",
    "start = time.time()\n",
    "\n",
    "model = lgb.LGBMClassifier(**params)\n",
    "model.fit(X_train, y_train)\n",
    "y_pred_lgb = model.predict(X_test)\n",
    "\n",
    "stop = time.time()\n",
    "print(classification_report(y_test, y_pred_lgb))\n",
    "\n",
    "\n",
    "precision = precision_score(y_test, y_pred_lgb)\n",
    "recall = recall_score(y_test, y_pred_lgb)\n",
    "f1 = f1_score(y_test, y_pred_lgb)\n",
    "elapsed_time = round((stop - start), 4)\n",
    "\n",
    "print(f'время работы алгоритма: {elapsed_time:.1f} секунд')\n",
    "print(f'Precision: {precision:.2f}')\n",
    "print(f'Recall: {recall:.2f}')\n",
    "print(f'F1 Score: {f1:.2f}')\n",
    "\n",
    "metrics['LightGBM_imp_feature'] = [precision, recall, f1, elapsed_time]"
   ]
  },
  {
   "cell_type": "code",
   "execution_count": 100,
   "id": "73abc571",
   "metadata": {},
   "outputs": [
    {
     "data": {
      "text/html": [
       "<div>\n",
       "<style scoped>\n",
       "    .dataframe tbody tr th:only-of-type {\n",
       "        vertical-align: middle;\n",
       "    }\n",
       "\n",
       "    .dataframe tbody tr th {\n",
       "        vertical-align: top;\n",
       "    }\n",
       "\n",
       "    .dataframe thead th {\n",
       "        text-align: right;\n",
       "    }\n",
       "</style>\n",
       "<table border=\"1\" class=\"dataframe\">\n",
       "  <thead>\n",
       "    <tr style=\"text-align: right;\">\n",
       "      <th></th>\n",
       "      <th>bagging</th>\n",
       "      <th>AdaBoost</th>\n",
       "      <th>GBM</th>\n",
       "      <th>XGBoost</th>\n",
       "      <th>LightGBM</th>\n",
       "      <th>CatBoost</th>\n",
       "      <th>LightGBM_imp_feature</th>\n",
       "    </tr>\n",
       "  </thead>\n",
       "  <tbody>\n",
       "    <tr>\n",
       "      <th>precision</th>\n",
       "      <td>0.838169</td>\n",
       "      <td>0.832215</td>\n",
       "      <td>0.834558</td>\n",
       "      <td>0.833189</td>\n",
       "      <td>0.836192</td>\n",
       "      <td>0.834588</td>\n",
       "      <td>0.835941</td>\n",
       "    </tr>\n",
       "    <tr>\n",
       "      <th>recall</th>\n",
       "      <td>0.870408</td>\n",
       "      <td>0.945209</td>\n",
       "      <td>0.948677</td>\n",
       "      <td>0.950306</td>\n",
       "      <td>0.949173</td>\n",
       "      <td>0.949716</td>\n",
       "      <td>0.926520</td>\n",
       "    </tr>\n",
       "    <tr>\n",
       "      <th>f1</th>\n",
       "      <td>0.853984</td>\n",
       "      <td>0.885120</td>\n",
       "      <td>0.887966</td>\n",
       "      <td>0.887902</td>\n",
       "      <td>0.889107</td>\n",
       "      <td>0.888438</td>\n",
       "      <td>0.878903</td>\n",
       "    </tr>\n",
       "    <tr>\n",
       "      <th>time</th>\n",
       "      <td>91.222900</td>\n",
       "      <td>7.518000</td>\n",
       "      <td>28.643100</td>\n",
       "      <td>1.022100</td>\n",
       "      <td>1.758600</td>\n",
       "      <td>8.090700</td>\n",
       "      <td>1.782900</td>\n",
       "    </tr>\n",
       "  </tbody>\n",
       "</table>\n",
       "</div>"
      ],
      "text/plain": [
       "             bagging  AdaBoost        GBM   XGBoost  LightGBM  CatBoost  \\\n",
       "precision   0.838169  0.832215   0.834558  0.833189  0.836192  0.834588   \n",
       "recall      0.870408  0.945209   0.948677  0.950306  0.949173  0.949716   \n",
       "f1          0.853984  0.885120   0.887966  0.887902  0.889107  0.888438   \n",
       "time       91.222900  7.518000  28.643100  1.022100  1.758600  8.090700   \n",
       "\n",
       "           LightGBM_imp_feature  \n",
       "precision              0.835941  \n",
       "recall                 0.926520  \n",
       "f1                     0.878903  \n",
       "time                   1.782900  "
      ]
     },
     "execution_count": 100,
     "metadata": {},
     "output_type": "execute_result"
    }
   ],
   "source": [
    "metrics"
   ]
  },
  {
   "cell_type": "markdown",
   "id": "d9a0bc8c",
   "metadata": {},
   "source": [
    "# Вывод: без неважных признаков модель стала хуже по метрикам качества - брать в работу не будем"
   ]
  },
  {
   "cell_type": "markdown",
   "id": "b272e437",
   "metadata": {},
   "source": [
    "# Часть 4. Запуск LightGBM с самостоятельным кодированием признаков\n",
    "\n",
    "# Модель 8. LightGBM с самостоятельной обработкой категориальных признаков"
   ]
  },
  {
   "cell_type": "code",
   "execution_count": 101,
   "id": "07e051ae",
   "metadata": {},
   "outputs": [],
   "source": [
    "cat_features = [\n",
    "    'Source',\n",
    "    'day_period',\n",
    "    'visitDuration_category',\n",
    "    'type_device',\n",
    "    'UTMSource_category',\n",
    "    'operatingSystem_category',\n",
    "    'regionCity'\n",
    "    ]  # категориальные фичи\n",
    "\n",
    "df_lgb_categ = df.copy()\n",
    "\n",
    "df_lgb_categ.drop(\n",
    "    [\n",
    "        'visitID',\n",
    "        'date',\n",
    "        'dateTime',\n",
    "        'dateTimeUTC',\n",
    "        'startURL',\n",
    "        'endURL',\n",
    "        'clientID',\n",
    "        'counterUserIDHash',\n",
    "        'mobilePhone',\n",
    "        'operatingSystemRoot',\n",
    "        'operatingSystem',\n",
    "        'browser',\n",
    "        'UTMCampaign',\n",
    "        'UTMContent',\n",
    "        'UTMMedium',\n",
    "        'UTMSource',\n",
    "        'UTMTerm',\n",
    "        'visitDuration',\n",
    "        'total_regs',\n",
    "        'regionCountry',\n",
    "        'referer',\n",
    "        'lastTrafficSource',\n",
    "        'referer_domain',\n",
    "        'days_last_visit'\n",
    "        ] , axis =1 ,inplace = True)\n",
    "\n",
    "X = df_lgb_categ.drop(columns=['next_visit'])\n",
    "y = df_lgb_categ['next_visit']\n",
    "\n",
    "# разобьем данные на обучающую и тестовую выборки\n",
    "X_train, X_test, y_train, y_test = train_test_split(\n",
    "    X, y, test_size=0.2, stratify=y, random_state=42\n",
    ")\n",
    "X_train.shape\n",
    "\n",
    "# Преобразуем их в тип category\n",
    "for col in cat_features:\n",
    "    X_train[col] = X_train[col].astype('category')\n",
    "    X_test[col] = X_test[col].astype('category')\n"
   ]
  },
  {
   "cell_type": "code",
   "execution_count": 102,
   "id": "b61958b7",
   "metadata": {},
   "outputs": [
    {
     "name": "stdout",
     "output_type": "stream",
     "text": [
      "[LightGBM] [Warning] min_data_in_leaf is set=5, min_child_samples=20 will be ignored. Current value: min_data_in_leaf=5\n",
      "[LightGBM] [Warning] feature_fraction is set=0.8, colsample_bytree=1.0 will be ignored. Current value: feature_fraction=0.8\n",
      "[LightGBM] [Warning] min_gain_to_split is set=0.0, min_split_gain=0.0 will be ignored. Current value: min_gain_to_split=0.0\n",
      "[LightGBM] [Warning] Categorical features with more bins than the configured maximum bin number found.\n",
      "[LightGBM] [Warning] For categorical features, max_bin and max_bin_by_feature may be ignored with a large number of categories.\n",
      "[LightGBM] [Warning] min_data_in_leaf is set=5, min_child_samples=20 will be ignored. Current value: min_data_in_leaf=5\n",
      "[LightGBM] [Warning] feature_fraction is set=0.8, colsample_bytree=1.0 will be ignored. Current value: feature_fraction=0.8\n",
      "[LightGBM] [Warning] min_gain_to_split is set=0.0, min_split_gain=0.0 will be ignored. Current value: min_gain_to_split=0.0\n",
      "[LightGBM] [Warning] min_data_in_leaf is set=5, min_child_samples=20 will be ignored. Current value: min_data_in_leaf=5\n",
      "[LightGBM] [Warning] feature_fraction is set=0.8, colsample_bytree=1.0 will be ignored. Current value: feature_fraction=0.8\n",
      "[LightGBM] [Warning] min_gain_to_split is set=0.0, min_split_gain=0.0 will be ignored. Current value: min_gain_to_split=0.0\n",
      "              precision    recall  f1-score   support\n",
      "\n",
      "       False       0.87      0.65      0.75     22619\n",
      "        True       0.84      0.95      0.89     42379\n",
      "\n",
      "    accuracy                           0.85     64998\n",
      "   macro avg       0.85      0.80      0.82     64998\n",
      "weighted avg       0.85      0.85      0.84     64998\n",
      "\n",
      "время работы алгоритма: 1.9 секунд\n",
      "Precision: 0.84\n",
      "Recall: 0.95\n",
      "F1 Score: 0.89\n"
     ]
    }
   ],
   "source": [
    "params = {\n",
    "    'objective': 'binary',\n",
    "    'metric': 'auc',\n",
    "    'max_depth': -1,   # Без ограничения глубины\n",
    "    'num_leaves': 31,  # Стандартное значение\n",
    "    'min_data_in_leaf': 5,  # Сделаем меньше, чтобы больше разбиений прошло\n",
    "    'min_gain_to_split': 0.0,  # Уберем ограничение на минимальное улучшение сплита\n",
    "    'feature_fraction': 0.8,\n",
    "    'verbose':0\n",
    "}\n",
    "start = time.time()\n",
    "\n",
    "model = lgb.LGBMClassifier(**params)\n",
    "model.fit(X_train, y_train)\n",
    "y_pred_lgb = model.predict(X_test)\n",
    "\n",
    "stop = time.time()\n",
    "print(classification_report(y_test, y_pred_lgb))\n",
    "\n",
    "precision = precision_score(y_test, y_pred_lgb)\n",
    "recall = recall_score(y_test, y_pred_lgb)\n",
    "f1 = f1_score(y_test, y_pred_lgb)\n",
    "elapsed_time = round((stop - start), 4)\n",
    "\n",
    "print(f'время работы алгоритма: {elapsed_time:.1f} секунд')\n",
    "print(f'Precision: {precision:.2f}')\n",
    "print(f'Recall: {recall:.2f}')\n",
    "print(f'F1 Score: {f1:.2f}')\n",
    "\n",
    "metrics['LightGBM_categ'] = [precision, recall, f1, elapsed_time]"
   ]
  },
  {
   "cell_type": "code",
   "execution_count": 103,
   "id": "2ea94ec0",
   "metadata": {},
   "outputs": [
    {
     "data": {
      "text/html": [
       "<div>\n",
       "<style scoped>\n",
       "    .dataframe tbody tr th:only-of-type {\n",
       "        vertical-align: middle;\n",
       "    }\n",
       "\n",
       "    .dataframe tbody tr th {\n",
       "        vertical-align: top;\n",
       "    }\n",
       "\n",
       "    .dataframe thead th {\n",
       "        text-align: right;\n",
       "    }\n",
       "</style>\n",
       "<table border=\"1\" class=\"dataframe\">\n",
       "  <thead>\n",
       "    <tr style=\"text-align: right;\">\n",
       "      <th></th>\n",
       "      <th>bagging</th>\n",
       "      <th>AdaBoost</th>\n",
       "      <th>GBM</th>\n",
       "      <th>XGBoost</th>\n",
       "      <th>LightGBM</th>\n",
       "      <th>CatBoost</th>\n",
       "      <th>LightGBM_imp_feature</th>\n",
       "      <th>LightGBM_categ</th>\n",
       "    </tr>\n",
       "  </thead>\n",
       "  <tbody>\n",
       "    <tr>\n",
       "      <th>precision</th>\n",
       "      <td>0.838169</td>\n",
       "      <td>0.832215</td>\n",
       "      <td>0.834558</td>\n",
       "      <td>0.833189</td>\n",
       "      <td>0.836192</td>\n",
       "      <td>0.834588</td>\n",
       "      <td>0.835941</td>\n",
       "      <td>0.836226</td>\n",
       "    </tr>\n",
       "    <tr>\n",
       "      <th>recall</th>\n",
       "      <td>0.870408</td>\n",
       "      <td>0.945209</td>\n",
       "      <td>0.948677</td>\n",
       "      <td>0.950306</td>\n",
       "      <td>0.949173</td>\n",
       "      <td>0.949716</td>\n",
       "      <td>0.926520</td>\n",
       "      <td>0.948087</td>\n",
       "    </tr>\n",
       "    <tr>\n",
       "      <th>f1</th>\n",
       "      <td>0.853984</td>\n",
       "      <td>0.885120</td>\n",
       "      <td>0.887966</td>\n",
       "      <td>0.887902</td>\n",
       "      <td>0.889107</td>\n",
       "      <td>0.888438</td>\n",
       "      <td>0.878903</td>\n",
       "      <td>0.888651</td>\n",
       "    </tr>\n",
       "    <tr>\n",
       "      <th>time</th>\n",
       "      <td>91.222900</td>\n",
       "      <td>7.518000</td>\n",
       "      <td>28.643100</td>\n",
       "      <td>1.022100</td>\n",
       "      <td>1.758600</td>\n",
       "      <td>8.090700</td>\n",
       "      <td>1.782900</td>\n",
       "      <td>1.942400</td>\n",
       "    </tr>\n",
       "  </tbody>\n",
       "</table>\n",
       "</div>"
      ],
      "text/plain": [
       "             bagging  AdaBoost        GBM   XGBoost  LightGBM  CatBoost  \\\n",
       "precision   0.838169  0.832215   0.834558  0.833189  0.836192  0.834588   \n",
       "recall      0.870408  0.945209   0.948677  0.950306  0.949173  0.949716   \n",
       "f1          0.853984  0.885120   0.887966  0.887902  0.889107  0.888438   \n",
       "time       91.222900  7.518000  28.643100  1.022100  1.758600  8.090700   \n",
       "\n",
       "           LightGBM_imp_feature  LightGBM_categ  \n",
       "precision              0.835941        0.836226  \n",
       "recall                 0.926520        0.948087  \n",
       "f1                     0.878903        0.888651  \n",
       "time                   1.782900        1.942400  "
      ]
     },
     "execution_count": 103,
     "metadata": {},
     "output_type": "execute_result"
    }
   ],
   "source": [
    "metrics"
   ]
  },
  {
   "cell_type": "markdown",
   "id": "b865627e",
   "metadata": {},
   "source": [
    "# Вывод: метрики качества практически не поменялись - смысла использовать нет"
   ]
  },
  {
   "cell_type": "markdown",
   "id": "421fe7a7",
   "metadata": {},
   "source": [
    "# Часть 5. LightGBM с подбором гиперпараметров\n",
    "\n",
    "# Модель 9. LightGBM с подбором гиперпараметров"
   ]
  },
  {
   "cell_type": "code",
   "execution_count": 104,
   "id": "e9394e75",
   "metadata": {},
   "outputs": [
    {
     "data": {
      "text/plain": [
       "(259990, 16)"
      ]
     },
     "execution_count": 104,
     "metadata": {},
     "output_type": "execute_result"
    }
   ],
   "source": [
    "# разобьем данные на обучающую и тестовую выборки\n",
    "X = df_model.drop(columns=['next_visit'])\n",
    "y = df_model['next_visit']\n",
    "\n",
    "X_train, X_test, y_train, y_test = train_test_split(\n",
    "    X, y, test_size=0.2, stratify=y, random_state=42\n",
    ")\n",
    "X_train.shape"
   ]
  },
  {
   "cell_type": "code",
   "execution_count": 105,
   "id": "5215f0c8",
   "metadata": {},
   "outputs": [
    {
     "name": "stdout",
     "output_type": "stream",
     "text": [
      "Fitting 3 folds for each of 50 candidates, totalling 150 fits\n",
      "Best parameters: {'subsample': 0.6, 'reg_lambda': 5, 'reg_alpha': 1, 'num_leaves': 127, 'min_child_samples': 50, 'max_depth': -1, 'learning_rate': 0.05, 'colsample_bytree': 0.6}\n",
      "Threshold: 0.65\n",
      "Precision: 0.862\n",
      "Recall: 0.890\n",
      "F1-score: 0.876\n",
      "Time: 257.96 seconds\n"
     ]
    }
   ],
   "source": [
    "# --- Создание модели ---\n",
    "model = lgb.LGBMClassifier(objective='binary', verbose=0)\n",
    "\n",
    "# --- Параметры для RandomizedSearchCV ---\n",
    "param_dist = {\n",
    "    'num_leaves': [15, 31, 63, 127],\n",
    "    'max_depth': [-1, 5, 10, 20, 50],\n",
    "    'learning_rate': [0.005, 0.01, 0.05, 0.1],\n",
    "    'min_child_samples': [5, 10, 20, 50],\n",
    "    'subsample': [0.6, 0.8, 1.0],\n",
    "    'colsample_bytree': [0.6, 0.8, 1.0],\n",
    "    'reg_alpha': [0, 0.1, 1, 5],\n",
    "    'reg_lambda': [0, 0.1, 1, 5]\n",
    "}\n",
    "\n",
    "# --- Precision как метрика для повышения точности ---\n",
    "scorer = make_scorer(precision_score)\n",
    "\n",
    "random_search = RandomizedSearchCV(\n",
    "    estimator=model,\n",
    "    param_distributions=param_dist,\n",
    "    scoring=scorer,\n",
    "    n_iter=50,\n",
    "    cv=3,\n",
    "    verbose=1,\n",
    "    n_jobs=-1,\n",
    "    random_state=42\n",
    ")\n",
    "\n",
    "# --- Обучение модели ---\n",
    "start = time.time()\n",
    "random_search.fit(X_train, y_train)\n",
    "stop = time.time()\n",
    "\n",
    "best_model = random_search.best_estimator_\n",
    "\n",
    "# --- Предсказания вероятностей и применение порога ---\n",
    "y_proba = best_model.predict_proba(X_test)[:, 1]\n",
    "\n",
    "# Изменяем порог — подбирай вручную: 0.5, 0.6, 0.65, 0.7 и т.д.\n",
    "threshold = 0.65\n",
    "y_pred_thresh = (y_proba >= threshold).astype(int)\n",
    "\n",
    "# --- Метрики ---\n",
    "precision = precision_score(y_test, y_pred_thresh)\n",
    "recall = recall_score(y_test, y_pred_thresh)\n",
    "f1 = f1_score(y_test, y_pred_thresh)\n",
    "elapsed_time = round((stop - start), 2)\n",
    "\n",
    "# --- Вывод ---\n",
    "print(\"Best parameters:\", random_search.best_params_)\n",
    "print(f\"Threshold: {threshold}\")\n",
    "print(f\"Precision: {precision:.3f}\")\n",
    "print(f\"Recall: {recall:.3f}\")\n",
    "print(f\"F1-score: {f1:.3f}\")\n",
    "print(f\"Time: {elapsed_time} seconds\")\n",
    "\n",
    "metrics['LightGBM_giperparam'] = [precision, recall, f1, elapsed_time]"
   ]
  },
  {
   "cell_type": "code",
   "execution_count": 106,
   "id": "309b952c",
   "metadata": {},
   "outputs": [
    {
     "data": {
      "text/html": [
       "<div>\n",
       "<style scoped>\n",
       "    .dataframe tbody tr th:only-of-type {\n",
       "        vertical-align: middle;\n",
       "    }\n",
       "\n",
       "    .dataframe tbody tr th {\n",
       "        vertical-align: top;\n",
       "    }\n",
       "\n",
       "    .dataframe thead th {\n",
       "        text-align: right;\n",
       "    }\n",
       "</style>\n",
       "<table border=\"1\" class=\"dataframe\">\n",
       "  <thead>\n",
       "    <tr style=\"text-align: right;\">\n",
       "      <th></th>\n",
       "      <th>bagging</th>\n",
       "      <th>AdaBoost</th>\n",
       "      <th>GBM</th>\n",
       "      <th>XGBoost</th>\n",
       "      <th>LightGBM</th>\n",
       "      <th>CatBoost</th>\n",
       "      <th>LightGBM_imp_feature</th>\n",
       "      <th>LightGBM_categ</th>\n",
       "      <th>LightGBM_giperparam</th>\n",
       "    </tr>\n",
       "  </thead>\n",
       "  <tbody>\n",
       "    <tr>\n",
       "      <th>precision</th>\n",
       "      <td>0.838169</td>\n",
       "      <td>0.832215</td>\n",
       "      <td>0.834558</td>\n",
       "      <td>0.833189</td>\n",
       "      <td>0.836192</td>\n",
       "      <td>0.834588</td>\n",
       "      <td>0.835941</td>\n",
       "      <td>0.836226</td>\n",
       "      <td>0.861586</td>\n",
       "    </tr>\n",
       "    <tr>\n",
       "      <th>recall</th>\n",
       "      <td>0.870408</td>\n",
       "      <td>0.945209</td>\n",
       "      <td>0.948677</td>\n",
       "      <td>0.950306</td>\n",
       "      <td>0.949173</td>\n",
       "      <td>0.949716</td>\n",
       "      <td>0.926520</td>\n",
       "      <td>0.948087</td>\n",
       "      <td>0.890394</td>\n",
       "    </tr>\n",
       "    <tr>\n",
       "      <th>f1</th>\n",
       "      <td>0.853984</td>\n",
       "      <td>0.885120</td>\n",
       "      <td>0.887966</td>\n",
       "      <td>0.887902</td>\n",
       "      <td>0.889107</td>\n",
       "      <td>0.888438</td>\n",
       "      <td>0.878903</td>\n",
       "      <td>0.888651</td>\n",
       "      <td>0.875753</td>\n",
       "    </tr>\n",
       "    <tr>\n",
       "      <th>time</th>\n",
       "      <td>91.222900</td>\n",
       "      <td>7.518000</td>\n",
       "      <td>28.643100</td>\n",
       "      <td>1.022100</td>\n",
       "      <td>1.758600</td>\n",
       "      <td>8.090700</td>\n",
       "      <td>1.782900</td>\n",
       "      <td>1.942400</td>\n",
       "      <td>257.960000</td>\n",
       "    </tr>\n",
       "  </tbody>\n",
       "</table>\n",
       "</div>"
      ],
      "text/plain": [
       "             bagging  AdaBoost        GBM   XGBoost  LightGBM  CatBoost  \\\n",
       "precision   0.838169  0.832215   0.834558  0.833189  0.836192  0.834588   \n",
       "recall      0.870408  0.945209   0.948677  0.950306  0.949173  0.949716   \n",
       "f1          0.853984  0.885120   0.887966  0.887902  0.889107  0.888438   \n",
       "time       91.222900  7.518000  28.643100  1.022100  1.758600  8.090700   \n",
       "\n",
       "           LightGBM_imp_feature  LightGBM_categ  LightGBM_giperparam  \n",
       "precision              0.835941        0.836226             0.861586  \n",
       "recall                 0.926520        0.948087             0.890394  \n",
       "f1                     0.878903        0.888651             0.875753  \n",
       "time                   1.782900        1.942400           257.960000  "
      ]
     },
     "execution_count": 106,
     "metadata": {},
     "output_type": "execute_result"
    }
   ],
   "source": [
    "metrics"
   ]
  },
  {
   "cell_type": "markdown",
   "id": "08310289",
   "metadata": {},
   "source": [
    "# Вывод: улучшения precision есть, но остальные метрики заметно снизились - смысла использовать нет"
   ]
  },
  {
   "cell_type": "markdown",
   "id": "b0beb877",
   "metadata": {},
   "source": [
    "# Часть 6. LightGBM с удалением из исходных данных выбросов и нулей\n",
    "\n",
    "# Модель 11. LightGBM без выбросов"
   ]
  },
  {
   "cell_type": "code",
   "execution_count": 107,
   "id": "cf6a9a18",
   "metadata": {},
   "outputs": [],
   "source": [
    "df_model = df_model.loc[\n",
    "    (df_model['visitDuration_min'] != 0) &\n",
    "    (df_model['pageViews']        != 0)\n",
    "]"
   ]
  },
  {
   "cell_type": "code",
   "execution_count": 108,
   "id": "89e946f5",
   "metadata": {},
   "outputs": [
    {
     "data": {
      "text/plain": [
       "(231354, 16)"
      ]
     },
     "execution_count": 108,
     "metadata": {},
     "output_type": "execute_result"
    }
   ],
   "source": [
    "# разобьем данные на обучающую и тестовую выборки\n",
    "X = df_model.drop(columns=['next_visit'])\n",
    "y = df_model['next_visit']\n",
    "\n",
    "X_train, X_test, y_train, y_test = train_test_split(\n",
    "    X, y, test_size=0.2, stratify=y, random_state=42\n",
    ")\n",
    "X_train.shape"
   ]
  },
  {
   "cell_type": "code",
   "execution_count": 109,
   "id": "2966d2df",
   "metadata": {},
   "outputs": [
    {
     "name": "stdout",
     "output_type": "stream",
     "text": [
      "[LightGBM] [Warning] min_data_in_leaf is set=5, min_child_samples=20 will be ignored. Current value: min_data_in_leaf=5\n",
      "[LightGBM] [Warning] feature_fraction is set=0.8, colsample_bytree=1.0 will be ignored. Current value: feature_fraction=0.8\n",
      "[LightGBM] [Warning] min_gain_to_split is set=0.0, min_split_gain=0.0 will be ignored. Current value: min_gain_to_split=0.0\n",
      "[LightGBM] [Warning] min_data_in_leaf is set=5, min_child_samples=20 will be ignored. Current value: min_data_in_leaf=5\n",
      "[LightGBM] [Warning] feature_fraction is set=0.8, colsample_bytree=1.0 will be ignored. Current value: feature_fraction=0.8\n",
      "[LightGBM] [Warning] min_gain_to_split is set=0.0, min_split_gain=0.0 will be ignored. Current value: min_gain_to_split=0.0\n",
      "[LightGBM] [Warning] min_data_in_leaf is set=5, min_child_samples=20 will be ignored. Current value: min_data_in_leaf=5\n",
      "[LightGBM] [Warning] feature_fraction is set=0.8, colsample_bytree=1.0 will be ignored. Current value: feature_fraction=0.8\n",
      "[LightGBM] [Warning] min_gain_to_split is set=0.0, min_split_gain=0.0 will be ignored. Current value: min_gain_to_split=0.0\n",
      "              precision    recall  f1-score   support\n",
      "\n",
      "       False       0.94      0.58      0.72     20947\n",
      "        True       0.80      0.98      0.88     36892\n",
      "\n",
      "    accuracy                           0.83     57839\n",
      "   macro avg       0.87      0.78      0.80     57839\n",
      "weighted avg       0.85      0.83      0.82     57839\n",
      "\n",
      "время работы алгоритма: 2.1 секунд\n",
      "Precision: 0.80\n",
      "Recall: 0.98\n",
      "F1 Score: 0.88\n"
     ]
    }
   ],
   "source": [
    "params = {\n",
    "    'objective': 'binary',\n",
    "    'metric': 'auc',\n",
    "    'max_depth': -1,   # Без ограничения глубины\n",
    "    'num_leaves': 31,  # Стандартное значение\n",
    "    'min_data_in_leaf': 5,  # Сделаем меньше, чтобы больше разбиений прошло\n",
    "    'min_gain_to_split': 0.0,  # Уберем ограничение на минимальное улучшение сплита\n",
    "    'feature_fraction': 0.8,\n",
    "    'verbose':0,\n",
    "    'scale_pos_weight': 2.3\n",
    "}\n",
    "start = time.time()\n",
    "\n",
    "model = lgb.LGBMClassifier(**params)\n",
    "model.fit(X_train, y_train)\n",
    "y_pred_lgb = model.predict(X_test)\n",
    "\n",
    "stop = time.time()\n",
    "print(classification_report(y_test, y_pred_lgb))\n",
    "\n",
    "\n",
    "precision = precision_score(y_test, y_pred_lgb)\n",
    "recall = recall_score(y_test, y_pred_lgb)\n",
    "f1 = f1_score(y_test, y_pred_lgb)\n",
    "elapsed_time = round((stop - start), 4)\n",
    "\n",
    "print(f'время работы алгоритма: {elapsed_time:.1f} секунд')\n",
    "print(f'Precision: {precision:.2f}')\n",
    "print(f'Recall: {recall:.2f}')\n",
    "print(f'F1 Score: {f1:.2f}')\n",
    "\n",
    "metrics['LightGBM_no_zeros'] = [precision, recall, f1, elapsed_time]"
   ]
  },
  {
   "cell_type": "code",
   "execution_count": 110,
   "id": "2961ca59",
   "metadata": {},
   "outputs": [
    {
     "data": {
      "text/html": [
       "<div>\n",
       "<style scoped>\n",
       "    .dataframe tbody tr th:only-of-type {\n",
       "        vertical-align: middle;\n",
       "    }\n",
       "\n",
       "    .dataframe tbody tr th {\n",
       "        vertical-align: top;\n",
       "    }\n",
       "\n",
       "    .dataframe thead th {\n",
       "        text-align: right;\n",
       "    }\n",
       "</style>\n",
       "<table border=\"1\" class=\"dataframe\">\n",
       "  <thead>\n",
       "    <tr style=\"text-align: right;\">\n",
       "      <th></th>\n",
       "      <th>bagging</th>\n",
       "      <th>AdaBoost</th>\n",
       "      <th>GBM</th>\n",
       "      <th>XGBoost</th>\n",
       "      <th>LightGBM</th>\n",
       "      <th>CatBoost</th>\n",
       "      <th>LightGBM_imp_feature</th>\n",
       "      <th>LightGBM_categ</th>\n",
       "      <th>LightGBM_giperparam</th>\n",
       "      <th>LightGBM_no_zeros</th>\n",
       "    </tr>\n",
       "  </thead>\n",
       "  <tbody>\n",
       "    <tr>\n",
       "      <th>precision</th>\n",
       "      <td>0.838169</td>\n",
       "      <td>0.832215</td>\n",
       "      <td>0.834558</td>\n",
       "      <td>0.833189</td>\n",
       "      <td>0.836192</td>\n",
       "      <td>0.834588</td>\n",
       "      <td>0.835941</td>\n",
       "      <td>0.836226</td>\n",
       "      <td>0.861586</td>\n",
       "      <td>0.804182</td>\n",
       "    </tr>\n",
       "    <tr>\n",
       "      <th>recall</th>\n",
       "      <td>0.870408</td>\n",
       "      <td>0.945209</td>\n",
       "      <td>0.948677</td>\n",
       "      <td>0.950306</td>\n",
       "      <td>0.949173</td>\n",
       "      <td>0.949716</td>\n",
       "      <td>0.926520</td>\n",
       "      <td>0.948087</td>\n",
       "      <td>0.890394</td>\n",
       "      <td>0.977936</td>\n",
       "    </tr>\n",
       "    <tr>\n",
       "      <th>f1</th>\n",
       "      <td>0.853984</td>\n",
       "      <td>0.885120</td>\n",
       "      <td>0.887966</td>\n",
       "      <td>0.887902</td>\n",
       "      <td>0.889107</td>\n",
       "      <td>0.888438</td>\n",
       "      <td>0.878903</td>\n",
       "      <td>0.888651</td>\n",
       "      <td>0.875753</td>\n",
       "      <td>0.882588</td>\n",
       "    </tr>\n",
       "    <tr>\n",
       "      <th>time</th>\n",
       "      <td>91.222900</td>\n",
       "      <td>7.518000</td>\n",
       "      <td>28.643100</td>\n",
       "      <td>1.022100</td>\n",
       "      <td>1.758600</td>\n",
       "      <td>8.090700</td>\n",
       "      <td>1.782900</td>\n",
       "      <td>1.942400</td>\n",
       "      <td>257.960000</td>\n",
       "      <td>2.069000</td>\n",
       "    </tr>\n",
       "  </tbody>\n",
       "</table>\n",
       "</div>"
      ],
      "text/plain": [
       "             bagging  AdaBoost        GBM   XGBoost  LightGBM  CatBoost  \\\n",
       "precision   0.838169  0.832215   0.834558  0.833189  0.836192  0.834588   \n",
       "recall      0.870408  0.945209   0.948677  0.950306  0.949173  0.949716   \n",
       "f1          0.853984  0.885120   0.887966  0.887902  0.889107  0.888438   \n",
       "time       91.222900  7.518000  28.643100  1.022100  1.758600  8.090700   \n",
       "\n",
       "           LightGBM_imp_feature  LightGBM_categ  LightGBM_giperparam  \\\n",
       "precision              0.835941        0.836226             0.861586   \n",
       "recall                 0.926520        0.948087             0.890394   \n",
       "f1                     0.878903        0.888651             0.875753   \n",
       "time                   1.782900        1.942400           257.960000   \n",
       "\n",
       "           LightGBM_no_zeros  \n",
       "precision           0.804182  \n",
       "recall              0.977936  \n",
       "f1                  0.882588  \n",
       "time                2.069000  "
      ]
     },
     "execution_count": 110,
     "metadata": {},
     "output_type": "execute_result"
    }
   ],
   "source": [
    "metrics"
   ]
  },
  {
   "cell_type": "code",
   "execution_count": 111,
   "id": "08b7e17b",
   "metadata": {},
   "outputs": [],
   "source": [
    "metrics.to_csv('../data/result_modelling.csv', index=False)"
   ]
  },
  {
   "cell_type": "markdown",
   "id": "34c05c9f",
   "metadata": {},
   "source": [
    "# Вывод: recall стал почти идеальным, но упал precision, также f1 упал. Использовать не будем, но при необходимости идеального recall можно взять этот вариант модели"
   ]
  },
  {
   "cell_type": "markdown",
   "id": "e3e3ad1d",
   "metadata": {},
   "source": [
    "# Итоги по тестированию моделей:\n",
    "\n",
    "Модель LightGBM хорошо справляется с задачей: она почти не пропускает тех, кто действительно уйдёт (высокая полнота), но иногда ошибочно помечает как \"ушедших\" тех, кто на самом деле остался (не идеальная точность). В целом, она даёт сбалансированные предсказания и работает быстро.\n",
    "Precision = 0.836 - из всех, кого модель предсказала как \"ушёл\", 83.6% действительно ушли.\n",
    "Recall = 0.949 - из всех реально ушедших, модель нашла 94.9%, целевая метрика качества.\n",
    "F1-score = 0.889 - хороший баланс.\n",
    "\n",
    "При необходимости повысить recall можно использовать LightGBM с удалением из исходных данных выбросов и нулей (recall = 0.977), но при этом падает precision (0.804)\n",
    "\n",
    "При необходимости повысить precision можно использовать LightGBM с подбором гиперпараметров (precision = 0.861), но при этом будет падение recall (0.890), однако модель станет более сбалансированной"
   ]
  }
 ],
 "metadata": {
  "kernelspec": {
   "display_name": "Python 3",
   "language": "python",
   "name": "python3"
  },
  "language_info": {
   "codemirror_mode": {
    "name": "ipython",
    "version": 3
   },
   "file_extension": ".py",
   "mimetype": "text/x-python",
   "name": "python",
   "nbconvert_exporter": "python",
   "pygments_lexer": "ipython3",
   "version": "3.12.1"
  }
 },
 "nbformat": 4,
 "nbformat_minor": 5
}
